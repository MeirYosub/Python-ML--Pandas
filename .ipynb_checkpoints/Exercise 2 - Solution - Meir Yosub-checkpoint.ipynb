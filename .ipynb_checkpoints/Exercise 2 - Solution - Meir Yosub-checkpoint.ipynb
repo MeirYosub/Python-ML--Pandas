{
 "cells": [
  {
   "cell_type": "markdown",
   "id": "262ed441-1e2f-4f23-af4e-3c1c0f6dc002",
   "metadata": {},
   "source": [
    "# Pandas Test - Real life Exercise"
   ]
  },
  {
   "cell_type": "code",
   "execution_count": 1,
   "id": "e24b34ca-0a21-4dc6-92e4-4b16bcbd5a98",
   "metadata": {},
   "outputs": [],
   "source": [
    "import pandas as pd\n",
    "import math\n",
    "from scipy.stats import norm"
   ]
  },
  {
   "cell_type": "markdown",
   "id": "ad46fe63-39ad-4b03-b6b6-623586b94d45",
   "metadata": {},
   "source": [
    "For visualizations:"
   ]
  },
  {
   "cell_type": "code",
   "execution_count": 2,
   "id": "58bd46da-da6c-44d0-903f-19be230836e5",
   "metadata": {},
   "outputs": [
    {
     "data": {
      "text/html": [
       "        <script type=\"text/javascript\">\n",
       "        window.PlotlyConfig = {MathJaxConfig: 'local'};\n",
       "        if (window.MathJax) {MathJax.Hub.Config({SVG: {font: \"STIX-Web\"}});}\n",
       "        if (typeof require !== 'undefined') {\n",
       "        require.undef(\"plotly\");\n",
       "        requirejs.config({\n",
       "            paths: {\n",
       "                'plotly': ['https://cdn.plot.ly/plotly-2.9.0.min']\n",
       "            }\n",
       "        });\n",
       "        require(['plotly'], function(Plotly) {\n",
       "            window._Plotly = Plotly;\n",
       "        });\n",
       "        }\n",
       "        </script>\n",
       "        "
      ]
     },
     "metadata": {},
     "output_type": "display_data"
    }
   ],
   "source": [
    "import cufflinks as cf; cf.go_offline()\n",
    "import plotly_express as px"
   ]
  },
  {
   "cell_type": "markdown",
   "id": "2685b7b6-1a31-451b-a1e8-f29c1513b697",
   "metadata": {},
   "source": [
    "## About the data"
   ]
  },
  {
   "cell_type": "markdown",
   "id": "5453d0d4-f625-41df-942e-ff2f5cf0f993",
   "metadata": {},
   "source": [
    "The data you are about to load is coming from an Ad recommentation system of the company InBrain. InBrain is a adTech company and specalize in next-level ad recommendation.  \n",
    "The company has two major products - one giving high quality recommendation while the other is giving an highly yielding recommendation. Inbrain custormers are sending requests, asking for either of the products. \n",
    "\n",
    "Once a week, the company is doing an internal quality assements, and sends a sample of its traffic requests to external annotation process, in which the annotators are trained to manually decided whether the recommended Ad is a succes or not. The data contains information about the ad (**ad_id**), the sampled week (**week_id**), the requester company (**requester**), the region of operation (**region**), the recommendation type (Quality/Yield, **recommendation_type**) and the recommendation provider algorithm (**rec_provider**). The annotators are marking whether the recommendation is meeting the Quality/Yield standards (**is_success**) and whether or not the recommendation is severly defected (**is_sever**)\n",
    "\n",
    "See a sample below:"
   ]
  },
  {
   "cell_type": "code",
   "execution_count": 3,
   "id": "71b69819-00b8-4612-bd2f-49bab7b7ab13",
   "metadata": {},
   "outputs": [
    {
     "data": {
      "text/html": [
       "<div>\n",
       "<style scoped>\n",
       "    .dataframe tbody tr th:only-of-type {\n",
       "        vertical-align: middle;\n",
       "    }\n",
       "\n",
       "    .dataframe tbody tr th {\n",
       "        vertical-align: top;\n",
       "    }\n",
       "\n",
       "    .dataframe thead th {\n",
       "        text-align: right;\n",
       "    }\n",
       "</style>\n",
       "<table border=\"1\" class=\"dataframe\">\n",
       "  <thead>\n",
       "    <tr style=\"text-align: right;\">\n",
       "      <th></th>\n",
       "      <th>week_id</th>\n",
       "      <th>ad_id</th>\n",
       "      <th>requester</th>\n",
       "      <th>region</th>\n",
       "      <th>is_success</th>\n",
       "      <th>is_sever</th>\n",
       "      <th>recommendation_type</th>\n",
       "      <th>rec_provider</th>\n",
       "    </tr>\n",
       "  </thead>\n",
       "  <tbody>\n",
       "    <tr>\n",
       "      <th>144623</th>\n",
       "      <td>2021-week_43</td>\n",
       "      <td>AD078SV88K</td>\n",
       "      <td>Fry Multimedia</td>\n",
       "      <td>DE</td>\n",
       "      <td>yes</td>\n",
       "      <td>NaN</td>\n",
       "      <td>Qality</td>\n",
       "      <td>UserPopQ</td>\n",
       "    </tr>\n",
       "    <tr>\n",
       "      <th>29007</th>\n",
       "      <td>2021-week_35</td>\n",
       "      <td>AD88998078</td>\n",
       "      <td>Search Million Culture</td>\n",
       "      <td>DE</td>\n",
       "      <td>yes</td>\n",
       "      <td>NaN</td>\n",
       "      <td>Yield</td>\n",
       "      <td>BooksY</td>\n",
       "    </tr>\n",
       "    <tr>\n",
       "      <th>293447</th>\n",
       "      <td>2022-week_02</td>\n",
       "      <td>AD0789S8J8</td>\n",
       "      <td>RelayFoods</td>\n",
       "      <td>IN</td>\n",
       "      <td>yes</td>\n",
       "      <td>NaN</td>\n",
       "      <td>Qality</td>\n",
       "      <td>UserPopQ</td>\n",
       "    </tr>\n",
       "    <tr>\n",
       "      <th>119978</th>\n",
       "      <td>2021-week_41</td>\n",
       "      <td>AD00F8X8SU</td>\n",
       "      <td>Modanisa</td>\n",
       "      <td>GB</td>\n",
       "      <td>no</td>\n",
       "      <td>True</td>\n",
       "      <td>Yield</td>\n",
       "      <td>RuleBasedY</td>\n",
       "    </tr>\n",
       "    <tr>\n",
       "      <th>39144</th>\n",
       "      <td>2021-week_35</td>\n",
       "      <td>AD08PZ879M</td>\n",
       "      <td>Sensor Tower</td>\n",
       "      <td>US</td>\n",
       "      <td>yes</td>\n",
       "      <td>NaN</td>\n",
       "      <td>Qality</td>\n",
       "      <td>DNNQ</td>\n",
       "    </tr>\n",
       "  </tbody>\n",
       "</table>\n",
       "</div>"
      ],
      "text/plain": [
       "             week_id       ad_id               requester region is_success  \\\n",
       "144623  2021-week_43  AD078SV88K          Fry Multimedia     DE        yes   \n",
       "29007   2021-week_35  AD88998078  Search Million Culture     DE        yes   \n",
       "293447  2022-week_02  AD0789S8J8              RelayFoods     IN        yes   \n",
       "119978  2021-week_41  AD00F8X8SU                Modanisa     GB         no   \n",
       "39144   2021-week_35  AD08PZ879M            Sensor Tower     US        yes   \n",
       "\n",
       "       is_sever recommendation_type rec_provider  \n",
       "144623      NaN              Qality     UserPopQ  \n",
       "29007       NaN               Yield       BooksY  \n",
       "293447      NaN              Qality     UserPopQ  \n",
       "119978     True               Yield   RuleBasedY  \n",
       "39144       NaN              Qality         DNNQ  "
      ]
     },
     "execution_count": 3,
     "metadata": {},
     "output_type": "execute_result"
    }
   ],
   "source": [
    "ad_recs_annotated = pd.read_csv('data/ad_annotations.csv')\n",
    "df=ad_recs_annotated\n",
    "df.sample(5)"
   ]
  },
  {
   "cell_type": "markdown",
   "id": "f4413766-e8bf-4f14-94e0-f58cfb88bb07",
   "metadata": {},
   "source": [
    "Your job, as the new and only data scientist of the company, is to get familiar with the the data, show week-over-week trends and produce insightfull graphs as a preparation to a full blown BI dashboard."
   ]
  },
  {
   "cell_type": "markdown",
   "id": "97faa00a-e0e3-47c0-bb8e-b3f72e1f0cb1",
   "metadata": {},
   "source": [
    "## Questions"
   ]
  },
  {
   "cell_type": "markdown",
   "id": "c0ed5ec1-d7b3-49a6-bf12-29420eab3a67",
   "metadata": {},
   "source": [
    "### Data Modifications"
   ]
  },
  {
   "cell_type": "markdown",
   "id": "8db18aad-c8b8-4fd4-994f-c008f279e1f6",
   "metadata": {},
   "source": [
    "1. Add a column with the sample year\n",
    "1. Add a column with the sample quarter (google how to)\n",
    "1. Add a new success column with values 1 and 0 for yes and no \n",
    "1. Are there any NaNs in the is_sever column? Count how many and create a new column with NaNs filled as False. Check that indeed the new column contaion no NaNs. \n",
    "1. Capitlize (first letter only) the is_success column (Inplace)"
   ]
  },
  {
   "cell_type": "markdown",
   "id": "a53f7c1b-eb01-4b81-8504-cc8185264144",
   "metadata": {},
   "source": [
    "#### A to Q1:"
   ]
  },
  {
   "cell_type": "code",
   "execution_count": 4,
   "id": "75159eb2-0a83-42cc-b51c-009ca165cd38",
   "metadata": {},
   "outputs": [],
   "source": [
    "df['year'] = df.week_id.apply(lambda w: w.split('-')[0])"
   ]
  },
  {
   "cell_type": "markdown",
   "id": "9a64f5d3-4062-4bd2-a300-b9c23331708f",
   "metadata": {},
   "source": [
    "#### A to Q2:"
   ]
  },
  {
   "cell_type": "code",
   "execution_count": 5,
   "id": "712ab231-5d7c-4a74-8288-9b154a90c259",
   "metadata": {},
   "outputs": [],
   "source": [
    "df['quarter'] = df.week_id.apply(lambda w: int(w.split('_')[1]) // 13 + 1)"
   ]
  },
  {
   "cell_type": "markdown",
   "id": "1848c57d-76eb-4d40-9414-9f32ceda91e5",
   "metadata": {},
   "source": [
    "#### A to Q3:"
   ]
  },
  {
   "cell_type": "code",
   "execution_count": 6,
   "id": "340ba031-acbb-4b97-a876-5e84c78f6887",
   "metadata": {
    "tags": []
   },
   "outputs": [
    {
     "data": {
      "text/html": [
       "<div>\n",
       "<style scoped>\n",
       "    .dataframe tbody tr th:only-of-type {\n",
       "        vertical-align: middle;\n",
       "    }\n",
       "\n",
       "    .dataframe tbody tr th {\n",
       "        vertical-align: top;\n",
       "    }\n",
       "\n",
       "    .dataframe thead th {\n",
       "        text-align: right;\n",
       "    }\n",
       "</style>\n",
       "<table border=\"1\" class=\"dataframe\">\n",
       "  <thead>\n",
       "    <tr style=\"text-align: right;\">\n",
       "      <th></th>\n",
       "      <th>week_id</th>\n",
       "      <th>ad_id</th>\n",
       "      <th>requester</th>\n",
       "      <th>region</th>\n",
       "      <th>is_success</th>\n",
       "      <th>is_sever</th>\n",
       "      <th>recommendation_type</th>\n",
       "      <th>rec_provider</th>\n",
       "      <th>year</th>\n",
       "      <th>quarter</th>\n",
       "      <th>is_success_int</th>\n",
       "    </tr>\n",
       "  </thead>\n",
       "  <tbody>\n",
       "    <tr>\n",
       "      <th>151525</th>\n",
       "      <td>2021-week_43</td>\n",
       "      <td>AD08FDIJD0</td>\n",
       "      <td>Puentes Company</td>\n",
       "      <td>IN</td>\n",
       "      <td>yes</td>\n",
       "      <td>NaN</td>\n",
       "      <td>Yield</td>\n",
       "      <td>UserPopY</td>\n",
       "      <td>2021</td>\n",
       "      <td>4</td>\n",
       "      <td>1</td>\n",
       "    </tr>\n",
       "    <tr>\n",
       "      <th>177128</th>\n",
       "      <td>2021-week_45</td>\n",
       "      <td>AD08LWAUW8</td>\n",
       "      <td>Search Million Culture</td>\n",
       "      <td>GB</td>\n",
       "      <td>yes</td>\n",
       "      <td>NaN</td>\n",
       "      <td>Qality</td>\n",
       "      <td>RNNQ</td>\n",
       "      <td>2021</td>\n",
       "      <td>4</td>\n",
       "      <td>1</td>\n",
       "    </tr>\n",
       "    <tr>\n",
       "      <th>269451</th>\n",
       "      <td>2021-week_51</td>\n",
       "      <td>AD088PN899</td>\n",
       "      <td>Extreme DA</td>\n",
       "      <td>US</td>\n",
       "      <td>yes</td>\n",
       "      <td>NaN</td>\n",
       "      <td>Yield</td>\n",
       "      <td>RuleBasedY</td>\n",
       "      <td>2021</td>\n",
       "      <td>4</td>\n",
       "      <td>1</td>\n",
       "    </tr>\n",
       "    <tr>\n",
       "      <th>175345</th>\n",
       "      <td>2021-week_45</td>\n",
       "      <td>AD07L8LLRS</td>\n",
       "      <td>Fancy</td>\n",
       "      <td>GB</td>\n",
       "      <td>yes</td>\n",
       "      <td>NaN</td>\n",
       "      <td>Qality</td>\n",
       "      <td>DNNQ</td>\n",
       "      <td>2021</td>\n",
       "      <td>4</td>\n",
       "      <td>1</td>\n",
       "    </tr>\n",
       "    <tr>\n",
       "      <th>305246</th>\n",
       "      <td>2022-week_03</td>\n",
       "      <td>AD08MY8P8F</td>\n",
       "      <td>RelayFoods</td>\n",
       "      <td>GB</td>\n",
       "      <td>yes</td>\n",
       "      <td>NaN</td>\n",
       "      <td>Qality</td>\n",
       "      <td>RNNQ</td>\n",
       "      <td>2022</td>\n",
       "      <td>1</td>\n",
       "      <td>1</td>\n",
       "    </tr>\n",
       "  </tbody>\n",
       "</table>\n",
       "</div>"
      ],
      "text/plain": [
       "             week_id       ad_id               requester region is_success  \\\n",
       "151525  2021-week_43  AD08FDIJD0         Puentes Company     IN        yes   \n",
       "177128  2021-week_45  AD08LWAUW8  Search Million Culture     GB        yes   \n",
       "269451  2021-week_51  AD088PN899              Extreme DA     US        yes   \n",
       "175345  2021-week_45  AD07L8LLRS                   Fancy     GB        yes   \n",
       "305246  2022-week_03  AD08MY8P8F              RelayFoods     GB        yes   \n",
       "\n",
       "       is_sever recommendation_type rec_provider  year  quarter  \\\n",
       "151525      NaN               Yield     UserPopY  2021        4   \n",
       "177128      NaN              Qality         RNNQ  2021        4   \n",
       "269451      NaN               Yield   RuleBasedY  2021        4   \n",
       "175345      NaN              Qality         DNNQ  2021        4   \n",
       "305246      NaN              Qality         RNNQ  2022        1   \n",
       "\n",
       "        is_success_int  \n",
       "151525               1  \n",
       "177128               1  \n",
       "269451               1  \n",
       "175345               1  \n",
       "305246               1  "
      ]
     },
     "execution_count": 6,
     "metadata": {},
     "output_type": "execute_result"
    }
   ],
   "source": [
    "df['is_success_int'] = df.is_success.map({'yes': 1, 'no': 0})\n",
    "df.sample(5)"
   ]
  },
  {
   "cell_type": "markdown",
   "id": "44e2e16c-c9f8-4a58-9266-541d455fa728",
   "metadata": {},
   "source": [
    "#### A to Q4:"
   ]
  },
  {
   "cell_type": "code",
   "execution_count": 7,
   "id": "8744398e-d911-4452-94ee-258076883390",
   "metadata": {},
   "outputs": [
    {
     "data": {
      "text/plain": [
       "304195"
      ]
     },
     "execution_count": 7,
     "metadata": {},
     "output_type": "execute_result"
    }
   ],
   "source": [
    "df.is_sever.isnull().sum() # Yes, we have NaNs "
   ]
  },
  {
   "cell_type": "code",
   "execution_count": 8,
   "id": "3c112656-50cb-406c-a662-237f3d021524",
   "metadata": {},
   "outputs": [
    {
     "data": {
      "text/plain": [
       "no     69576\n",
       "yes       17\n",
       "Name: is_success, dtype: int64"
      ]
     },
     "execution_count": 8,
     "metadata": {},
     "output_type": "execute_result"
    }
   ],
   "source": [
    "df[df.is_sever.notnull()].is_success.value_counts()"
   ]
  },
  {
   "cell_type": "code",
   "execution_count": 9,
   "id": "d125d17d-a940-4fad-9e24-b5220c3d6495",
   "metadata": {},
   "outputs": [
    {
     "data": {
      "text/plain": [
       "0"
      ]
     },
     "execution_count": 9,
     "metadata": {},
     "output_type": "execute_result"
    }
   ],
   "source": [
    "df['is_sever_fixed'] = df.is_sever.fillna(False)\n",
    "df['is_sever_fixed'].isnull().sum()"
   ]
  },
  {
   "cell_type": "code",
   "execution_count": 10,
   "id": "4e695058-5c62-4705-bb10-0fb8bf47c646",
   "metadata": {},
   "outputs": [
    {
     "data": {
      "text/plain": [
       "NaN      304195\n",
       "True      44689\n",
       "False     24904\n",
       "Name: is_sever, dtype: int64"
      ]
     },
     "execution_count": 10,
     "metadata": {},
     "output_type": "execute_result"
    }
   ],
   "source": [
    "df.is_sever.value_counts(dropna=False)"
   ]
  },
  {
   "cell_type": "markdown",
   "id": "e1a4707e-5673-4bec-bf9a-51aaf633b09f",
   "metadata": {},
   "source": [
    "### Subset selection"
   ]
  },
  {
   "cell_type": "markdown",
   "id": "6e4087a0-8706-471d-ae78-d9c47534f6b8",
   "metadata": {},
   "source": [
    "for each question, sub-select the data by using the conditional selection (`[]`) and the `.query` API. Use `.shape` on the subselection to obtain the result.  \n",
    "For example:\n",
    "`df.query('some_condition').shape`"
   ]
  },
  {
   "cell_type": "markdown",
   "id": "df326ef2-83c4-400f-bb51-f47db2401ee3",
   "metadata": {},
   "source": [
    "1. How many requests are there in US region? \n",
    "1. How many **successful** requests are there in US region? \n",
    "1. How many **successful** requests are there in US region, on week 52?\n",
    "1. How many requests where delivered by DDNQ, RRNY and UserPopQ together? \n",
    "1. How many requests where delivered by rule based providers? \n",
    "1. Select only the requests from 2021 - How many are there? \n",
    "1. Select the reqeusts from week 30 to week 40 - How many are there? \n",
    "1. Select all the data that comes from the most popular Ad\n",
    "1. Select all the data that comes from the least popular provider\n",
    "1. Select the data in which is_sever is None. How big is it? \n",
    "1. Select the data in which the requester is a 3 word company\n",
    "1. Select the data in which the requester is a 3 word company, and the ad_id has the letter 6 in it\n",
    "1. Select the data in which the requester is a 3 word company, and the multiplication of all the numbers in the ad_id is bigger than 30"
   ]
  },
  {
   "cell_type": "markdown",
   "id": "5438427f-ec7d-451c-a4ba-1d8dc53c3e4b",
   "metadata": {},
   "source": [
    "#### A to Q1:"
   ]
  },
  {
   "cell_type": "code",
   "execution_count": 11,
   "id": "6e6f4b61-2917-4b85-bec6-1713ef56d132",
   "metadata": {},
   "outputs": [
    {
     "name": "stdout",
     "output_type": "stream",
     "text": [
      "103846\n",
      "103846\n"
     ]
    }
   ],
   "source": [
    "print(df[df.region == \"US\"].shape[0])\n",
    "print(df.query(\"region == 'US'\").shape[0])"
   ]
  },
  {
   "cell_type": "markdown",
   "id": "7e7acd5d-9e16-4c40-b242-30fe5275c767",
   "metadata": {},
   "source": [
    "#### A to Q2:"
   ]
  },
  {
   "cell_type": "code",
   "execution_count": 12,
   "id": "b8517f1d-1238-4e71-b62d-c985cc5162f4",
   "metadata": {
    "tags": []
   },
   "outputs": [
    {
     "name": "stdout",
     "output_type": "stream",
     "text": [
      "88918\n",
      "88918\n"
     ]
    }
   ],
   "source": [
    "print(df[(df.region == \"US\") & (df.is_success == \"yes\")].shape[0])\n",
    "print(df.query('region == \"US\" and is_success == \"yes\"').shape[0])"
   ]
  },
  {
   "cell_type": "markdown",
   "id": "279e7412-d591-4436-968e-688b1b73886d",
   "metadata": {},
   "source": [
    "#### A to Q4:"
   ]
  },
  {
   "cell_type": "code",
   "execution_count": 13,
   "id": "6df04b8e-71f1-4b25-b52a-01e8d75b4110",
   "metadata": {},
   "outputs": [
    {
     "name": "stdout",
     "output_type": "stream",
     "text": [
      "69937\n",
      "69937\n"
     ]
    }
   ],
   "source": [
    "print(df[(df.rec_provider=='DDNQ') | (df.rec_provider=='RRNY') | (df.rec_provider=='UserPopQ')].shape[0])\n",
    "print(df.query(\"rec_provider=='DDNQ'| rec_provider=='RRNY' | rec_provider=='UserPopQ'\").shape[0])"
   ]
  },
  {
   "cell_type": "markdown",
   "id": "7cf82257-8520-42f6-ae8c-b468c5f58509",
   "metadata": {},
   "source": [
    "#### A to Q5:"
   ]
  },
  {
   "cell_type": "code",
   "execution_count": 14,
   "id": "aca7c1b2-e8c9-48d8-be90-6032a6cc0b32",
   "metadata": {},
   "outputs": [
    {
     "data": {
      "text/plain": [
       "28336"
      ]
     },
     "execution_count": 14,
     "metadata": {},
     "output_type": "execute_result"
    }
   ],
   "source": [
    "df[df.rec_provider.str[0:9]=='RuleBased'].shape[0]"
   ]
  },
  {
   "cell_type": "markdown",
   "id": "f28746d0-bd40-4e6d-b82a-00f5354f3d17",
   "metadata": {},
   "source": [
    "#### A to Q6:"
   ]
  },
  {
   "cell_type": "code",
   "execution_count": 15,
   "id": "e865f6ea-1a2d-46ec-b19c-5d2146c624ec",
   "metadata": {},
   "outputs": [
    {
     "data": {
      "text/plain": [
       "373788"
      ]
     },
     "execution_count": 15,
     "metadata": {},
     "output_type": "execute_result"
    }
   ],
   "source": [
    "df[df.year.astype(int)>=2021].requester.count()"
   ]
  },
  {
   "cell_type": "markdown",
   "id": "03d09a33-3b0d-44e5-bdf6-75c596060f0b",
   "metadata": {},
   "source": [
    "#### A to Q7:"
   ]
  },
  {
   "cell_type": "code",
   "execution_count": 16,
   "id": "79932d07-20ca-47e4-9df6-8367273f02f9",
   "metadata": {},
   "outputs": [
    {
     "data": {
      "text/html": [
       "<div>\n",
       "<style scoped>\n",
       "    .dataframe tbody tr th:only-of-type {\n",
       "        vertical-align: middle;\n",
       "    }\n",
       "\n",
       "    .dataframe tbody tr th {\n",
       "        vertical-align: top;\n",
       "    }\n",
       "\n",
       "    .dataframe thead th {\n",
       "        text-align: right;\n",
       "    }\n",
       "</style>\n",
       "<table border=\"1\" class=\"dataframe\">\n",
       "  <thead>\n",
       "    <tr style=\"text-align: right;\">\n",
       "      <th></th>\n",
       "      <th>week_id</th>\n",
       "      <th>ad_id</th>\n",
       "      <th>requester</th>\n",
       "      <th>region</th>\n",
       "      <th>is_success</th>\n",
       "      <th>is_sever</th>\n",
       "      <th>recommendation_type</th>\n",
       "      <th>rec_provider</th>\n",
       "      <th>year</th>\n",
       "      <th>quarter</th>\n",
       "      <th>is_success_int</th>\n",
       "      <th>is_sever_fixed</th>\n",
       "    </tr>\n",
       "  </thead>\n",
       "  <tbody>\n",
       "    <tr>\n",
       "      <th>0</th>\n",
       "      <td>2021-week_33</td>\n",
       "      <td>AD0088VOS</td>\n",
       "      <td>Search Million Culture</td>\n",
       "      <td>DE</td>\n",
       "      <td>yes</td>\n",
       "      <td>NaN</td>\n",
       "      <td>Qality</td>\n",
       "      <td>DNNQ</td>\n",
       "      <td>2021</td>\n",
       "      <td>3</td>\n",
       "      <td>1</td>\n",
       "      <td>False</td>\n",
       "    </tr>\n",
       "    <tr>\n",
       "      <th>1</th>\n",
       "      <td>2021-week_33</td>\n",
       "      <td>AD07KYS8JM</td>\n",
       "      <td>MoJoe Brewing Company</td>\n",
       "      <td>DE</td>\n",
       "      <td>yes</td>\n",
       "      <td>NaN</td>\n",
       "      <td>Yield</td>\n",
       "      <td>DNNY</td>\n",
       "      <td>2021</td>\n",
       "      <td>3</td>\n",
       "      <td>1</td>\n",
       "      <td>False</td>\n",
       "    </tr>\n",
       "    <tr>\n",
       "      <th>2</th>\n",
       "      <td>2021-week_33</td>\n",
       "      <td>AD08PDP6Y9</td>\n",
       "      <td>Search Million Culture</td>\n",
       "      <td>DE</td>\n",
       "      <td>yes</td>\n",
       "      <td>NaN</td>\n",
       "      <td>Qality</td>\n",
       "      <td>DNNQ</td>\n",
       "      <td>2021</td>\n",
       "      <td>3</td>\n",
       "      <td>1</td>\n",
       "      <td>False</td>\n",
       "    </tr>\n",
       "    <tr>\n",
       "      <th>3</th>\n",
       "      <td>2021-week_33</td>\n",
       "      <td>AD89608808</td>\n",
       "      <td>Search Million Culture</td>\n",
       "      <td>DE</td>\n",
       "      <td>yes</td>\n",
       "      <td>NaN</td>\n",
       "      <td>Qality</td>\n",
       "      <td>BooksQ</td>\n",
       "      <td>2021</td>\n",
       "      <td>3</td>\n",
       "      <td>1</td>\n",
       "      <td>False</td>\n",
       "    </tr>\n",
       "    <tr>\n",
       "      <th>4</th>\n",
       "      <td>2021-week_33</td>\n",
       "      <td>AD07CMVHP6</td>\n",
       "      <td>Search Million Culture</td>\n",
       "      <td>DE</td>\n",
       "      <td>yes</td>\n",
       "      <td>NaN</td>\n",
       "      <td>Qality</td>\n",
       "      <td>DNNQ</td>\n",
       "      <td>2021</td>\n",
       "      <td>3</td>\n",
       "      <td>1</td>\n",
       "      <td>False</td>\n",
       "    </tr>\n",
       "    <tr>\n",
       "      <th>...</th>\n",
       "      <td>...</td>\n",
       "      <td>...</td>\n",
       "      <td>...</td>\n",
       "      <td>...</td>\n",
       "      <td>...</td>\n",
       "      <td>...</td>\n",
       "      <td>...</td>\n",
       "      <td>...</td>\n",
       "      <td>...</td>\n",
       "      <td>...</td>\n",
       "      <td>...</td>\n",
       "      <td>...</td>\n",
       "    </tr>\n",
       "    <tr>\n",
       "      <th>115046</th>\n",
       "      <td>2021-week_40</td>\n",
       "      <td>AD07XH8N9W</td>\n",
       "      <td>Sensor Tower</td>\n",
       "      <td>US</td>\n",
       "      <td>yes</td>\n",
       "      <td>NaN</td>\n",
       "      <td>Qality</td>\n",
       "      <td>DNNQ</td>\n",
       "      <td>2021</td>\n",
       "      <td>4</td>\n",
       "      <td>1</td>\n",
       "      <td>False</td>\n",
       "    </tr>\n",
       "    <tr>\n",
       "      <th>115047</th>\n",
       "      <td>2021-week_40</td>\n",
       "      <td>AD097JK9F8</td>\n",
       "      <td>Extreme DA</td>\n",
       "      <td>US</td>\n",
       "      <td>yes</td>\n",
       "      <td>NaN</td>\n",
       "      <td>Yield</td>\n",
       "      <td>RNNY</td>\n",
       "      <td>2021</td>\n",
       "      <td>4</td>\n",
       "      <td>1</td>\n",
       "      <td>False</td>\n",
       "    </tr>\n",
       "    <tr>\n",
       "      <th>115048</th>\n",
       "      <td>2021-week_40</td>\n",
       "      <td>AD086WDR8S</td>\n",
       "      <td>Extreme DA</td>\n",
       "      <td>US</td>\n",
       "      <td>yes</td>\n",
       "      <td>NaN</td>\n",
       "      <td>Yield</td>\n",
       "      <td>DNNY</td>\n",
       "      <td>2021</td>\n",
       "      <td>4</td>\n",
       "      <td>1</td>\n",
       "      <td>False</td>\n",
       "    </tr>\n",
       "    <tr>\n",
       "      <th>115049</th>\n",
       "      <td>2021-week_40</td>\n",
       "      <td>AD07J897RY</td>\n",
       "      <td>Sensor Tower</td>\n",
       "      <td>US</td>\n",
       "      <td>yes</td>\n",
       "      <td>NaN</td>\n",
       "      <td>Yield</td>\n",
       "      <td>DNNY</td>\n",
       "      <td>2021</td>\n",
       "      <td>4</td>\n",
       "      <td>1</td>\n",
       "      <td>False</td>\n",
       "    </tr>\n",
       "    <tr>\n",
       "      <th>115050</th>\n",
       "      <td>2021-week_40</td>\n",
       "      <td>AD00C88UUI</td>\n",
       "      <td>MoJoe Brewing Company</td>\n",
       "      <td>US</td>\n",
       "      <td>yes</td>\n",
       "      <td>NaN</td>\n",
       "      <td>Yield</td>\n",
       "      <td>DNNY</td>\n",
       "      <td>2021</td>\n",
       "      <td>4</td>\n",
       "      <td>1</td>\n",
       "      <td>False</td>\n",
       "    </tr>\n",
       "  </tbody>\n",
       "</table>\n",
       "<p>115051 rows × 12 columns</p>\n",
       "</div>"
      ],
      "text/plain": [
       "             week_id       ad_id               requester region is_success  \\\n",
       "0       2021-week_33   AD0088VOS  Search Million Culture     DE        yes   \n",
       "1       2021-week_33  AD07KYS8JM   MoJoe Brewing Company     DE        yes   \n",
       "2       2021-week_33  AD08PDP6Y9  Search Million Culture     DE        yes   \n",
       "3       2021-week_33  AD89608808  Search Million Culture     DE        yes   \n",
       "4       2021-week_33  AD07CMVHP6  Search Million Culture     DE        yes   \n",
       "...              ...         ...                     ...    ...        ...   \n",
       "115046  2021-week_40  AD07XH8N9W            Sensor Tower     US        yes   \n",
       "115047  2021-week_40  AD097JK9F8              Extreme DA     US        yes   \n",
       "115048  2021-week_40  AD086WDR8S              Extreme DA     US        yes   \n",
       "115049  2021-week_40  AD07J897RY            Sensor Tower     US        yes   \n",
       "115050  2021-week_40  AD00C88UUI   MoJoe Brewing Company     US        yes   \n",
       "\n",
       "       is_sever recommendation_type rec_provider  year  quarter  \\\n",
       "0           NaN              Qality         DNNQ  2021        3   \n",
       "1           NaN               Yield         DNNY  2021        3   \n",
       "2           NaN              Qality         DNNQ  2021        3   \n",
       "3           NaN              Qality       BooksQ  2021        3   \n",
       "4           NaN              Qality         DNNQ  2021        3   \n",
       "...         ...                 ...          ...   ...      ...   \n",
       "115046      NaN              Qality         DNNQ  2021        4   \n",
       "115047      NaN               Yield         RNNY  2021        4   \n",
       "115048      NaN               Yield         DNNY  2021        4   \n",
       "115049      NaN               Yield         DNNY  2021        4   \n",
       "115050      NaN               Yield         DNNY  2021        4   \n",
       "\n",
       "        is_success_int  is_sever_fixed  \n",
       "0                    1           False  \n",
       "1                    1           False  \n",
       "2                    1           False  \n",
       "3                    1           False  \n",
       "4                    1           False  \n",
       "...                ...             ...  \n",
       "115046               1           False  \n",
       "115047               1           False  \n",
       "115048               1           False  \n",
       "115049               1           False  \n",
       "115050               1           False  \n",
       "\n",
       "[115051 rows x 12 columns]"
      ]
     },
     "execution_count": 16,
     "metadata": {},
     "output_type": "execute_result"
    }
   ],
   "source": [
    "week_number=df.week_id.apply(lambda w: int(w.split('_')[1])) \n",
    "df[(week_number>=30) & (week_number<=40)]\n",
    "# df.query('week_number>=30 & week_number<=40')"
   ]
  },
  {
   "cell_type": "markdown",
   "id": "7db00eaa-7f0c-46ef-91e4-a064d6ba91ff",
   "metadata": {},
   "source": [
    "#### A to Q8:"
   ]
  },
  {
   "cell_type": "code",
   "execution_count": 17,
   "id": "02ad58e5-85e7-47f3-9138-6a521dfd2979",
   "metadata": {},
   "outputs": [
    {
     "data": {
      "text/html": [
       "<div>\n",
       "<style scoped>\n",
       "    .dataframe tbody tr th:only-of-type {\n",
       "        vertical-align: middle;\n",
       "    }\n",
       "\n",
       "    .dataframe tbody tr th {\n",
       "        vertical-align: top;\n",
       "    }\n",
       "\n",
       "    .dataframe thead th {\n",
       "        text-align: right;\n",
       "    }\n",
       "</style>\n",
       "<table border=\"1\" class=\"dataframe\">\n",
       "  <thead>\n",
       "    <tr style=\"text-align: right;\">\n",
       "      <th></th>\n",
       "      <th>week_id</th>\n",
       "      <th>ad_id</th>\n",
       "      <th>requester</th>\n",
       "      <th>region</th>\n",
       "      <th>is_success</th>\n",
       "      <th>is_sever</th>\n",
       "      <th>recommendation_type</th>\n",
       "      <th>rec_provider</th>\n",
       "      <th>year</th>\n",
       "      <th>quarter</th>\n",
       "      <th>is_success_int</th>\n",
       "      <th>is_sever_fixed</th>\n",
       "    </tr>\n",
       "  </thead>\n",
       "  <tbody>\n",
       "    <tr>\n",
       "      <th>7031</th>\n",
       "      <td>2021-week_33</td>\n",
       "      <td>AD07PFFMP9</td>\n",
       "      <td>Puentes Company</td>\n",
       "      <td>IN</td>\n",
       "      <td>yes</td>\n",
       "      <td>NaN</td>\n",
       "      <td>Yield</td>\n",
       "      <td>ManualQ</td>\n",
       "      <td>2021</td>\n",
       "      <td>3</td>\n",
       "      <td>1</td>\n",
       "      <td>False</td>\n",
       "    </tr>\n",
       "    <tr>\n",
       "      <th>7032</th>\n",
       "      <td>2021-week_33</td>\n",
       "      <td>AD07PFFMP9</td>\n",
       "      <td>Puentes Company</td>\n",
       "      <td>IN</td>\n",
       "      <td>yes</td>\n",
       "      <td>NaN</td>\n",
       "      <td>Yield</td>\n",
       "      <td>ManualQ</td>\n",
       "      <td>2021</td>\n",
       "      <td>3</td>\n",
       "      <td>1</td>\n",
       "      <td>False</td>\n",
       "    </tr>\n",
       "    <tr>\n",
       "      <th>20010</th>\n",
       "      <td>2021-week_34</td>\n",
       "      <td>AD07PFFMP9</td>\n",
       "      <td>Bizanga</td>\n",
       "      <td>IN</td>\n",
       "      <td>yes</td>\n",
       "      <td>NaN</td>\n",
       "      <td>Yield</td>\n",
       "      <td>ManualQ</td>\n",
       "      <td>2021</td>\n",
       "      <td>3</td>\n",
       "      <td>1</td>\n",
       "      <td>False</td>\n",
       "    </tr>\n",
       "    <tr>\n",
       "      <th>20011</th>\n",
       "      <td>2021-week_34</td>\n",
       "      <td>AD07PFFMP9</td>\n",
       "      <td>Puentes Company</td>\n",
       "      <td>IN</td>\n",
       "      <td>yes</td>\n",
       "      <td>NaN</td>\n",
       "      <td>Yield</td>\n",
       "      <td>ManualQ</td>\n",
       "      <td>2021</td>\n",
       "      <td>3</td>\n",
       "      <td>1</td>\n",
       "      <td>False</td>\n",
       "    </tr>\n",
       "    <tr>\n",
       "      <th>35214</th>\n",
       "      <td>2021-week_35</td>\n",
       "      <td>AD07PFFMP9</td>\n",
       "      <td>Bizanga</td>\n",
       "      <td>IN</td>\n",
       "      <td>yes</td>\n",
       "      <td>NaN</td>\n",
       "      <td>Yield</td>\n",
       "      <td>ManualQ</td>\n",
       "      <td>2021</td>\n",
       "      <td>3</td>\n",
       "      <td>1</td>\n",
       "      <td>False</td>\n",
       "    </tr>\n",
       "    <tr>\n",
       "      <th>...</th>\n",
       "      <td>...</td>\n",
       "      <td>...</td>\n",
       "      <td>...</td>\n",
       "      <td>...</td>\n",
       "      <td>...</td>\n",
       "      <td>...</td>\n",
       "      <td>...</td>\n",
       "      <td>...</td>\n",
       "      <td>...</td>\n",
       "      <td>...</td>\n",
       "      <td>...</td>\n",
       "      <td>...</td>\n",
       "    </tr>\n",
       "    <tr>\n",
       "      <th>363533</th>\n",
       "      <td>2022-week_52</td>\n",
       "      <td>AD07PFFMP9</td>\n",
       "      <td>MoJoe Brewing Company</td>\n",
       "      <td>IN</td>\n",
       "      <td>yes</td>\n",
       "      <td>NaN</td>\n",
       "      <td>Yield</td>\n",
       "      <td>ManualQ</td>\n",
       "      <td>2022</td>\n",
       "      <td>5</td>\n",
       "      <td>1</td>\n",
       "      <td>False</td>\n",
       "    </tr>\n",
       "    <tr>\n",
       "      <th>363534</th>\n",
       "      <td>2022-week_52</td>\n",
       "      <td>AD07PFFMP9</td>\n",
       "      <td>MoJoe Brewing Company</td>\n",
       "      <td>IN</td>\n",
       "      <td>yes</td>\n",
       "      <td>NaN</td>\n",
       "      <td>Yield</td>\n",
       "      <td>ManualQ</td>\n",
       "      <td>2022</td>\n",
       "      <td>5</td>\n",
       "      <td>1</td>\n",
       "      <td>False</td>\n",
       "    </tr>\n",
       "    <tr>\n",
       "      <th>363535</th>\n",
       "      <td>2022-week_52</td>\n",
       "      <td>AD07PFFMP9</td>\n",
       "      <td>Bizanga</td>\n",
       "      <td>IN</td>\n",
       "      <td>yes</td>\n",
       "      <td>NaN</td>\n",
       "      <td>Yield</td>\n",
       "      <td>ManualQ</td>\n",
       "      <td>2022</td>\n",
       "      <td>5</td>\n",
       "      <td>1</td>\n",
       "      <td>False</td>\n",
       "    </tr>\n",
       "    <tr>\n",
       "      <th>363536</th>\n",
       "      <td>2022-week_52</td>\n",
       "      <td>AD07PFFMP9</td>\n",
       "      <td>MoJoe Brewing Company</td>\n",
       "      <td>IN</td>\n",
       "      <td>yes</td>\n",
       "      <td>NaN</td>\n",
       "      <td>Yield</td>\n",
       "      <td>ManualQ</td>\n",
       "      <td>2022</td>\n",
       "      <td>5</td>\n",
       "      <td>1</td>\n",
       "      <td>False</td>\n",
       "    </tr>\n",
       "    <tr>\n",
       "      <th>365817</th>\n",
       "      <td>2022-week_52</td>\n",
       "      <td>AD07PFFMP9</td>\n",
       "      <td>Allthetopbananas.com</td>\n",
       "      <td>IN</td>\n",
       "      <td>yes</td>\n",
       "      <td>NaN</td>\n",
       "      <td>Qality</td>\n",
       "      <td>ManualQ</td>\n",
       "      <td>2022</td>\n",
       "      <td>5</td>\n",
       "      <td>1</td>\n",
       "      <td>False</td>\n",
       "    </tr>\n",
       "  </tbody>\n",
       "</table>\n",
       "<p>247 rows × 12 columns</p>\n",
       "</div>"
      ],
      "text/plain": [
       "             week_id       ad_id              requester region is_success  \\\n",
       "7031    2021-week_33  AD07PFFMP9        Puentes Company     IN        yes   \n",
       "7032    2021-week_33  AD07PFFMP9        Puentes Company     IN        yes   \n",
       "20010   2021-week_34  AD07PFFMP9                Bizanga     IN        yes   \n",
       "20011   2021-week_34  AD07PFFMP9        Puentes Company     IN        yes   \n",
       "35214   2021-week_35  AD07PFFMP9                Bizanga     IN        yes   \n",
       "...              ...         ...                    ...    ...        ...   \n",
       "363533  2022-week_52  AD07PFFMP9  MoJoe Brewing Company     IN        yes   \n",
       "363534  2022-week_52  AD07PFFMP9  MoJoe Brewing Company     IN        yes   \n",
       "363535  2022-week_52  AD07PFFMP9                Bizanga     IN        yes   \n",
       "363536  2022-week_52  AD07PFFMP9  MoJoe Brewing Company     IN        yes   \n",
       "365817  2022-week_52  AD07PFFMP9   Allthetopbananas.com     IN        yes   \n",
       "\n",
       "       is_sever recommendation_type rec_provider  year  quarter  \\\n",
       "7031        NaN               Yield      ManualQ  2021        3   \n",
       "7032        NaN               Yield      ManualQ  2021        3   \n",
       "20010       NaN               Yield      ManualQ  2021        3   \n",
       "20011       NaN               Yield      ManualQ  2021        3   \n",
       "35214       NaN               Yield      ManualQ  2021        3   \n",
       "...         ...                 ...          ...   ...      ...   \n",
       "363533      NaN               Yield      ManualQ  2022        5   \n",
       "363534      NaN               Yield      ManualQ  2022        5   \n",
       "363535      NaN               Yield      ManualQ  2022        5   \n",
       "363536      NaN               Yield      ManualQ  2022        5   \n",
       "365817      NaN              Qality      ManualQ  2022        5   \n",
       "\n",
       "        is_success_int  is_sever_fixed  \n",
       "7031                 1           False  \n",
       "7032                 1           False  \n",
       "20010                1           False  \n",
       "20011                1           False  \n",
       "35214                1           False  \n",
       "...                ...             ...  \n",
       "363533               1           False  \n",
       "363534               1           False  \n",
       "363535               1           False  \n",
       "363536               1           False  \n",
       "365817               1           False  \n",
       "\n",
       "[247 rows x 12 columns]"
      ]
     },
     "execution_count": 17,
     "metadata": {},
     "output_type": "execute_result"
    }
   ],
   "source": [
    "df[df.ad_id==df.ad_id.value_counts().idxmax()]\n",
    "# df.query('ad_id == ad_id.value_counts().idxmax()')"
   ]
  },
  {
   "cell_type": "markdown",
   "id": "6075bbcf-7db2-48a8-a677-3604dc397edb",
   "metadata": {},
   "source": [
    "#### A to Q9:"
   ]
  },
  {
   "cell_type": "code",
   "execution_count": 18,
   "id": "8527e16b-fa6c-462f-a9e9-c4c5db657f20",
   "metadata": {},
   "outputs": [
    {
     "data": {
      "text/html": [
       "<div>\n",
       "<style scoped>\n",
       "    .dataframe tbody tr th:only-of-type {\n",
       "        vertical-align: middle;\n",
       "    }\n",
       "\n",
       "    .dataframe tbody tr th {\n",
       "        vertical-align: top;\n",
       "    }\n",
       "\n",
       "    .dataframe thead th {\n",
       "        text-align: right;\n",
       "    }\n",
       "</style>\n",
       "<table border=\"1\" class=\"dataframe\">\n",
       "  <thead>\n",
       "    <tr style=\"text-align: right;\">\n",
       "      <th></th>\n",
       "      <th>week_id</th>\n",
       "      <th>ad_id</th>\n",
       "      <th>requester</th>\n",
       "      <th>region</th>\n",
       "      <th>is_success</th>\n",
       "      <th>is_sever</th>\n",
       "      <th>recommendation_type</th>\n",
       "      <th>rec_provider</th>\n",
       "      <th>year</th>\n",
       "      <th>quarter</th>\n",
       "      <th>is_success_int</th>\n",
       "      <th>is_sever_fixed</th>\n",
       "    </tr>\n",
       "  </thead>\n",
       "  <tbody>\n",
       "    <tr>\n",
       "      <th>352263</th>\n",
       "      <td>2022-week_06</td>\n",
       "      <td>AD0088UP8R</td>\n",
       "      <td>MoJoe Brewing Company</td>\n",
       "      <td>JP</td>\n",
       "      <td>yes</td>\n",
       "      <td>NaN</td>\n",
       "      <td>Yield</td>\n",
       "      <td>UserPopSelectionY</td>\n",
       "      <td>2022</td>\n",
       "      <td>1</td>\n",
       "      <td>1</td>\n",
       "      <td>False</td>\n",
       "    </tr>\n",
       "    <tr>\n",
       "      <th>352326</th>\n",
       "      <td>2022-week_06</td>\n",
       "      <td>AD09C8KC8Z</td>\n",
       "      <td>MoJoe Brewing Company</td>\n",
       "      <td>JP</td>\n",
       "      <td>yes</td>\n",
       "      <td>NaN</td>\n",
       "      <td>Yield</td>\n",
       "      <td>UserPopSelectionY</td>\n",
       "      <td>2022</td>\n",
       "      <td>1</td>\n",
       "      <td>1</td>\n",
       "      <td>False</td>\n",
       "    </tr>\n",
       "    <tr>\n",
       "      <th>352578</th>\n",
       "      <td>2022-week_06</td>\n",
       "      <td>AD078DT6GJ</td>\n",
       "      <td>MoJoe Brewing Company</td>\n",
       "      <td>JP</td>\n",
       "      <td>yes</td>\n",
       "      <td>NaN</td>\n",
       "      <td>Yield</td>\n",
       "      <td>UserPopSelectionY</td>\n",
       "      <td>2022</td>\n",
       "      <td>1</td>\n",
       "      <td>1</td>\n",
       "      <td>False</td>\n",
       "    </tr>\n",
       "    <tr>\n",
       "      <th>352595</th>\n",
       "      <td>2022-week_06</td>\n",
       "      <td>AD09C8P789</td>\n",
       "      <td>MoJoe Brewing Company</td>\n",
       "      <td>JP</td>\n",
       "      <td>yes</td>\n",
       "      <td>NaN</td>\n",
       "      <td>Yield</td>\n",
       "      <td>UserPopSelectionY</td>\n",
       "      <td>2022</td>\n",
       "      <td>1</td>\n",
       "      <td>1</td>\n",
       "      <td>False</td>\n",
       "    </tr>\n",
       "    <tr>\n",
       "      <th>352703</th>\n",
       "      <td>2022-week_06</td>\n",
       "      <td>AD00UF8VOF</td>\n",
       "      <td>MoJoe Brewing Company</td>\n",
       "      <td>JP</td>\n",
       "      <td>yes</td>\n",
       "      <td>NaN</td>\n",
       "      <td>Yield</td>\n",
       "      <td>UserPopSelectionY</td>\n",
       "      <td>2022</td>\n",
       "      <td>1</td>\n",
       "      <td>1</td>\n",
       "      <td>False</td>\n",
       "    </tr>\n",
       "    <tr>\n",
       "      <th>352714</th>\n",
       "      <td>2022-week_06</td>\n",
       "      <td>AD098CXHRF</td>\n",
       "      <td>MoJoe Brewing Company</td>\n",
       "      <td>JP</td>\n",
       "      <td>yes</td>\n",
       "      <td>NaN</td>\n",
       "      <td>Yield</td>\n",
       "      <td>UserPopSelectionY</td>\n",
       "      <td>2022</td>\n",
       "      <td>1</td>\n",
       "      <td>1</td>\n",
       "      <td>False</td>\n",
       "    </tr>\n",
       "    <tr>\n",
       "      <th>352738</th>\n",
       "      <td>2022-week_06</td>\n",
       "      <td>AD0086GLW0</td>\n",
       "      <td>MoJoe Brewing Company</td>\n",
       "      <td>JP</td>\n",
       "      <td>yes</td>\n",
       "      <td>NaN</td>\n",
       "      <td>Yield</td>\n",
       "      <td>UserPopSelectionY</td>\n",
       "      <td>2022</td>\n",
       "      <td>1</td>\n",
       "      <td>1</td>\n",
       "      <td>False</td>\n",
       "    </tr>\n",
       "    <tr>\n",
       "      <th>352740</th>\n",
       "      <td>2022-week_06</td>\n",
       "      <td>AD08QMJ888</td>\n",
       "      <td>MoJoe Brewing Company</td>\n",
       "      <td>JP</td>\n",
       "      <td>yes</td>\n",
       "      <td>NaN</td>\n",
       "      <td>Yield</td>\n",
       "      <td>UserPopSelectionY</td>\n",
       "      <td>2022</td>\n",
       "      <td>1</td>\n",
       "      <td>1</td>\n",
       "      <td>False</td>\n",
       "    </tr>\n",
       "    <tr>\n",
       "      <th>352745</th>\n",
       "      <td>2022-week_06</td>\n",
       "      <td>AD07H9GM98</td>\n",
       "      <td>MoJoe Brewing Company</td>\n",
       "      <td>JP</td>\n",
       "      <td>yes</td>\n",
       "      <td>NaN</td>\n",
       "      <td>Yield</td>\n",
       "      <td>UserPopSelectionY</td>\n",
       "      <td>2022</td>\n",
       "      <td>1</td>\n",
       "      <td>1</td>\n",
       "      <td>False</td>\n",
       "    </tr>\n",
       "    <tr>\n",
       "      <th>352803</th>\n",
       "      <td>2022-week_06</td>\n",
       "      <td>AD09G9YKC8</td>\n",
       "      <td>MoJoe Brewing Company</td>\n",
       "      <td>JP</td>\n",
       "      <td>no</td>\n",
       "      <td>False</td>\n",
       "      <td>Yield</td>\n",
       "      <td>UserPopSelectionY</td>\n",
       "      <td>2022</td>\n",
       "      <td>1</td>\n",
       "      <td>0</td>\n",
       "      <td>False</td>\n",
       "    </tr>\n",
       "    <tr>\n",
       "      <th>352896</th>\n",
       "      <td>2022-week_06</td>\n",
       "      <td>AD009PDCHK</td>\n",
       "      <td>MoJoe Brewing Company</td>\n",
       "      <td>JP</td>\n",
       "      <td>yes</td>\n",
       "      <td>NaN</td>\n",
       "      <td>Yield</td>\n",
       "      <td>UserPopSelectionY</td>\n",
       "      <td>2022</td>\n",
       "      <td>1</td>\n",
       "      <td>1</td>\n",
       "      <td>False</td>\n",
       "    </tr>\n",
       "    <tr>\n",
       "      <th>352996</th>\n",
       "      <td>2022-week_06</td>\n",
       "      <td>AD078L8CHR</td>\n",
       "      <td>MoJoe Brewing Company</td>\n",
       "      <td>JP</td>\n",
       "      <td>no</td>\n",
       "      <td>False</td>\n",
       "      <td>Yield</td>\n",
       "      <td>UserPopSelectionY</td>\n",
       "      <td>2022</td>\n",
       "      <td>1</td>\n",
       "      <td>0</td>\n",
       "      <td>False</td>\n",
       "    </tr>\n",
       "    <tr>\n",
       "      <th>353173</th>\n",
       "      <td>2022-week_06</td>\n",
       "      <td>AD008Z6PXK</td>\n",
       "      <td>MoJoe Brewing Company</td>\n",
       "      <td>JP</td>\n",
       "      <td>yes</td>\n",
       "      <td>NaN</td>\n",
       "      <td>Yield</td>\n",
       "      <td>UserPopSelectionY</td>\n",
       "      <td>2022</td>\n",
       "      <td>1</td>\n",
       "      <td>1</td>\n",
       "      <td>False</td>\n",
       "    </tr>\n",
       "    <tr>\n",
       "      <th>353326</th>\n",
       "      <td>2022-week_06</td>\n",
       "      <td>AD06ZY9YJC</td>\n",
       "      <td>MoJoe Brewing Company</td>\n",
       "      <td>JP</td>\n",
       "      <td>yes</td>\n",
       "      <td>NaN</td>\n",
       "      <td>Yield</td>\n",
       "      <td>UserPopSelectionY</td>\n",
       "      <td>2022</td>\n",
       "      <td>1</td>\n",
       "      <td>1</td>\n",
       "      <td>False</td>\n",
       "    </tr>\n",
       "    <tr>\n",
       "      <th>353442</th>\n",
       "      <td>2022-week_06</td>\n",
       "      <td>AD07MW988W</td>\n",
       "      <td>MoJoe Brewing Company</td>\n",
       "      <td>JP</td>\n",
       "      <td>yes</td>\n",
       "      <td>NaN</td>\n",
       "      <td>Yield</td>\n",
       "      <td>UserPopSelectionY</td>\n",
       "      <td>2022</td>\n",
       "      <td>1</td>\n",
       "      <td>1</td>\n",
       "      <td>False</td>\n",
       "    </tr>\n",
       "    <tr>\n",
       "      <th>353456</th>\n",
       "      <td>2022-week_06</td>\n",
       "      <td>AD078P688Q</td>\n",
       "      <td>MoJoe Brewing Company</td>\n",
       "      <td>JP</td>\n",
       "      <td>yes</td>\n",
       "      <td>NaN</td>\n",
       "      <td>Yield</td>\n",
       "      <td>UserPopSelectionY</td>\n",
       "      <td>2022</td>\n",
       "      <td>1</td>\n",
       "      <td>1</td>\n",
       "      <td>False</td>\n",
       "    </tr>\n",
       "    <tr>\n",
       "      <th>353478</th>\n",
       "      <td>2022-week_06</td>\n",
       "      <td>AD078FSPSY</td>\n",
       "      <td>MoJoe Brewing Company</td>\n",
       "      <td>JP</td>\n",
       "      <td>no</td>\n",
       "      <td>True</td>\n",
       "      <td>Yield</td>\n",
       "      <td>UserPopSelectionY</td>\n",
       "      <td>2022</td>\n",
       "      <td>1</td>\n",
       "      <td>0</td>\n",
       "      <td>True</td>\n",
       "    </tr>\n",
       "    <tr>\n",
       "      <th>353524</th>\n",
       "      <td>2022-week_06</td>\n",
       "      <td>AD07DZX78K</td>\n",
       "      <td>MoJoe Brewing Company</td>\n",
       "      <td>JP</td>\n",
       "      <td>yes</td>\n",
       "      <td>NaN</td>\n",
       "      <td>Yield</td>\n",
       "      <td>UserPopSelectionY</td>\n",
       "      <td>2022</td>\n",
       "      <td>1</td>\n",
       "      <td>1</td>\n",
       "      <td>False</td>\n",
       "    </tr>\n",
       "    <tr>\n",
       "      <th>353551</th>\n",
       "      <td>2022-week_06</td>\n",
       "      <td>AD07GPW9QV</td>\n",
       "      <td>MoJoe Brewing Company</td>\n",
       "      <td>JP</td>\n",
       "      <td>yes</td>\n",
       "      <td>NaN</td>\n",
       "      <td>Yield</td>\n",
       "      <td>UserPopSelectionY</td>\n",
       "      <td>2022</td>\n",
       "      <td>1</td>\n",
       "      <td>1</td>\n",
       "      <td>False</td>\n",
       "    </tr>\n",
       "    <tr>\n",
       "      <th>353781</th>\n",
       "      <td>2022-week_06</td>\n",
       "      <td>AD07FS86NR</td>\n",
       "      <td>MoJoe Brewing Company</td>\n",
       "      <td>JP</td>\n",
       "      <td>yes</td>\n",
       "      <td>NaN</td>\n",
       "      <td>Yield</td>\n",
       "      <td>UserPopSelectionY</td>\n",
       "      <td>2022</td>\n",
       "      <td>1</td>\n",
       "      <td>1</td>\n",
       "      <td>False</td>\n",
       "    </tr>\n",
       "    <tr>\n",
       "      <th>353845</th>\n",
       "      <td>2022-week_06</td>\n",
       "      <td>AD08H8MJRC</td>\n",
       "      <td>MoJoe Brewing Company</td>\n",
       "      <td>JP</td>\n",
       "      <td>yes</td>\n",
       "      <td>NaN</td>\n",
       "      <td>Yield</td>\n",
       "      <td>UserPopSelectionY</td>\n",
       "      <td>2022</td>\n",
       "      <td>1</td>\n",
       "      <td>1</td>\n",
       "      <td>False</td>\n",
       "    </tr>\n",
       "  </tbody>\n",
       "</table>\n",
       "</div>"
      ],
      "text/plain": [
       "             week_id       ad_id              requester region is_success  \\\n",
       "352263  2022-week_06  AD0088UP8R  MoJoe Brewing Company     JP        yes   \n",
       "352326  2022-week_06  AD09C8KC8Z  MoJoe Brewing Company     JP        yes   \n",
       "352578  2022-week_06  AD078DT6GJ  MoJoe Brewing Company     JP        yes   \n",
       "352595  2022-week_06  AD09C8P789  MoJoe Brewing Company     JP        yes   \n",
       "352703  2022-week_06  AD00UF8VOF  MoJoe Brewing Company     JP        yes   \n",
       "352714  2022-week_06  AD098CXHRF  MoJoe Brewing Company     JP        yes   \n",
       "352738  2022-week_06  AD0086GLW0  MoJoe Brewing Company     JP        yes   \n",
       "352740  2022-week_06  AD08QMJ888  MoJoe Brewing Company     JP        yes   \n",
       "352745  2022-week_06  AD07H9GM98  MoJoe Brewing Company     JP        yes   \n",
       "352803  2022-week_06  AD09G9YKC8  MoJoe Brewing Company     JP         no   \n",
       "352896  2022-week_06  AD009PDCHK  MoJoe Brewing Company     JP        yes   \n",
       "352996  2022-week_06  AD078L8CHR  MoJoe Brewing Company     JP         no   \n",
       "353173  2022-week_06  AD008Z6PXK  MoJoe Brewing Company     JP        yes   \n",
       "353326  2022-week_06  AD06ZY9YJC  MoJoe Brewing Company     JP        yes   \n",
       "353442  2022-week_06  AD07MW988W  MoJoe Brewing Company     JP        yes   \n",
       "353456  2022-week_06  AD078P688Q  MoJoe Brewing Company     JP        yes   \n",
       "353478  2022-week_06  AD078FSPSY  MoJoe Brewing Company     JP         no   \n",
       "353524  2022-week_06  AD07DZX78K  MoJoe Brewing Company     JP        yes   \n",
       "353551  2022-week_06  AD07GPW9QV  MoJoe Brewing Company     JP        yes   \n",
       "353781  2022-week_06  AD07FS86NR  MoJoe Brewing Company     JP        yes   \n",
       "353845  2022-week_06  AD08H8MJRC  MoJoe Brewing Company     JP        yes   \n",
       "\n",
       "       is_sever recommendation_type       rec_provider  year  quarter  \\\n",
       "352263      NaN               Yield  UserPopSelectionY  2022        1   \n",
       "352326      NaN               Yield  UserPopSelectionY  2022        1   \n",
       "352578      NaN               Yield  UserPopSelectionY  2022        1   \n",
       "352595      NaN               Yield  UserPopSelectionY  2022        1   \n",
       "352703      NaN               Yield  UserPopSelectionY  2022        1   \n",
       "352714      NaN               Yield  UserPopSelectionY  2022        1   \n",
       "352738      NaN               Yield  UserPopSelectionY  2022        1   \n",
       "352740      NaN               Yield  UserPopSelectionY  2022        1   \n",
       "352745      NaN               Yield  UserPopSelectionY  2022        1   \n",
       "352803    False               Yield  UserPopSelectionY  2022        1   \n",
       "352896      NaN               Yield  UserPopSelectionY  2022        1   \n",
       "352996    False               Yield  UserPopSelectionY  2022        1   \n",
       "353173      NaN               Yield  UserPopSelectionY  2022        1   \n",
       "353326      NaN               Yield  UserPopSelectionY  2022        1   \n",
       "353442      NaN               Yield  UserPopSelectionY  2022        1   \n",
       "353456      NaN               Yield  UserPopSelectionY  2022        1   \n",
       "353478     True               Yield  UserPopSelectionY  2022        1   \n",
       "353524      NaN               Yield  UserPopSelectionY  2022        1   \n",
       "353551      NaN               Yield  UserPopSelectionY  2022        1   \n",
       "353781      NaN               Yield  UserPopSelectionY  2022        1   \n",
       "353845      NaN               Yield  UserPopSelectionY  2022        1   \n",
       "\n",
       "        is_success_int  is_sever_fixed  \n",
       "352263               1           False  \n",
       "352326               1           False  \n",
       "352578               1           False  \n",
       "352595               1           False  \n",
       "352703               1           False  \n",
       "352714               1           False  \n",
       "352738               1           False  \n",
       "352740               1           False  \n",
       "352745               1           False  \n",
       "352803               0           False  \n",
       "352896               1           False  \n",
       "352996               0           False  \n",
       "353173               1           False  \n",
       "353326               1           False  \n",
       "353442               1           False  \n",
       "353456               1           False  \n",
       "353478               0            True  \n",
       "353524               1           False  \n",
       "353551               1           False  \n",
       "353781               1           False  \n",
       "353845               1           False  "
      ]
     },
     "execution_count": 18,
     "metadata": {},
     "output_type": "execute_result"
    }
   ],
   "source": [
    "df[df.rec_provider==df.rec_provider.value_counts().idxmin()]\n",
    "# df.query('rec_provider == rec_provider.value_counts().idxmin()')"
   ]
  },
  {
   "cell_type": "markdown",
   "id": "08ca9ccf-ad9a-4602-b1e1-703e7519eae2",
   "metadata": {},
   "source": [
    "#### A to Q10:"
   ]
  },
  {
   "cell_type": "code",
   "execution_count": 19,
   "id": "92cc0799-bdd6-4d82-a81d-9b60d93b7cc5",
   "metadata": {},
   "outputs": [
    {
     "data": {
      "text/plain": [
       "304195"
      ]
     },
     "execution_count": 19,
     "metadata": {},
     "output_type": "execute_result"
    }
   ],
   "source": [
    "df[df.is_sever.isnull()].shape[0]\n",
    "# df.query('is_sever.isnull()').shape[0]"
   ]
  },
  {
   "cell_type": "markdown",
   "id": "2507c913-f630-4218-a1d2-e0bd99cf6877",
   "metadata": {},
   "source": [
    "#### A to Q11:"
   ]
  },
  {
   "cell_type": "code",
   "execution_count": 20,
   "id": "8c094d37-2d53-4d18-bc99-3a65caa33ef2",
   "metadata": {},
   "outputs": [
    {
     "data": {
      "text/html": [
       "<div>\n",
       "<style scoped>\n",
       "    .dataframe tbody tr th:only-of-type {\n",
       "        vertical-align: middle;\n",
       "    }\n",
       "\n",
       "    .dataframe tbody tr th {\n",
       "        vertical-align: top;\n",
       "    }\n",
       "\n",
       "    .dataframe thead th {\n",
       "        text-align: right;\n",
       "    }\n",
       "</style>\n",
       "<table border=\"1\" class=\"dataframe\">\n",
       "  <thead>\n",
       "    <tr style=\"text-align: right;\">\n",
       "      <th></th>\n",
       "      <th>week_id</th>\n",
       "      <th>ad_id</th>\n",
       "      <th>requester</th>\n",
       "      <th>region</th>\n",
       "      <th>is_success</th>\n",
       "      <th>is_sever</th>\n",
       "      <th>recommendation_type</th>\n",
       "      <th>rec_provider</th>\n",
       "      <th>year</th>\n",
       "      <th>quarter</th>\n",
       "      <th>is_success_int</th>\n",
       "      <th>is_sever_fixed</th>\n",
       "    </tr>\n",
       "  </thead>\n",
       "  <tbody>\n",
       "    <tr>\n",
       "      <th>191875</th>\n",
       "      <td>2021-week_46</td>\n",
       "      <td>AD07F87XC8</td>\n",
       "      <td>Search Million Culture</td>\n",
       "      <td>GB</td>\n",
       "      <td>yes</td>\n",
       "      <td>NaN</td>\n",
       "      <td>Qality</td>\n",
       "      <td>DNNQ</td>\n",
       "      <td>2021</td>\n",
       "      <td>4</td>\n",
       "      <td>1</td>\n",
       "      <td>False</td>\n",
       "    </tr>\n",
       "    <tr>\n",
       "      <th>306186</th>\n",
       "      <td>2022-week_03</td>\n",
       "      <td>AD087788D8</td>\n",
       "      <td>MoJoe Brewing Company</td>\n",
       "      <td>IN</td>\n",
       "      <td>yes</td>\n",
       "      <td>NaN</td>\n",
       "      <td>Yield</td>\n",
       "      <td>UserPopY</td>\n",
       "      <td>2022</td>\n",
       "      <td>1</td>\n",
       "      <td>1</td>\n",
       "      <td>False</td>\n",
       "    </tr>\n",
       "    <tr>\n",
       "      <th>107956</th>\n",
       "      <td>2021-week_40</td>\n",
       "      <td>AD089RQ89D</td>\n",
       "      <td>Search Million Culture</td>\n",
       "      <td>IN</td>\n",
       "      <td>yes</td>\n",
       "      <td>NaN</td>\n",
       "      <td>Yield</td>\n",
       "      <td>RuleBasedY</td>\n",
       "      <td>2021</td>\n",
       "      <td>4</td>\n",
       "      <td>1</td>\n",
       "      <td>False</td>\n",
       "    </tr>\n",
       "    <tr>\n",
       "      <th>115113</th>\n",
       "      <td>2021-week_41</td>\n",
       "      <td>AD0967FZ9Z</td>\n",
       "      <td>Search Million Culture</td>\n",
       "      <td>DE</td>\n",
       "      <td>yes</td>\n",
       "      <td>NaN</td>\n",
       "      <td>Qality</td>\n",
       "      <td>DNNQ</td>\n",
       "      <td>2021</td>\n",
       "      <td>4</td>\n",
       "      <td>1</td>\n",
       "      <td>False</td>\n",
       "    </tr>\n",
       "    <tr>\n",
       "      <th>105870</th>\n",
       "      <td>2021-week_40</td>\n",
       "      <td>AD09KKJDDD</td>\n",
       "      <td>Search Million Culture</td>\n",
       "      <td>GB</td>\n",
       "      <td>no</td>\n",
       "      <td>False</td>\n",
       "      <td>Yield</td>\n",
       "      <td>RuleBasedY</td>\n",
       "      <td>2021</td>\n",
       "      <td>4</td>\n",
       "      <td>0</td>\n",
       "      <td>False</td>\n",
       "    </tr>\n",
       "  </tbody>\n",
       "</table>\n",
       "</div>"
      ],
      "text/plain": [
       "             week_id       ad_id               requester region is_success  \\\n",
       "191875  2021-week_46  AD07F87XC8  Search Million Culture     GB        yes   \n",
       "306186  2022-week_03  AD087788D8   MoJoe Brewing Company     IN        yes   \n",
       "107956  2021-week_40  AD089RQ89D  Search Million Culture     IN        yes   \n",
       "115113  2021-week_41  AD0967FZ9Z  Search Million Culture     DE        yes   \n",
       "105870  2021-week_40  AD09KKJDDD  Search Million Culture     GB         no   \n",
       "\n",
       "       is_sever recommendation_type rec_provider  year  quarter  \\\n",
       "191875      NaN              Qality         DNNQ  2021        4   \n",
       "306186      NaN               Yield     UserPopY  2022        1   \n",
       "107956      NaN               Yield   RuleBasedY  2021        4   \n",
       "115113      NaN              Qality         DNNQ  2021        4   \n",
       "105870    False               Yield   RuleBasedY  2021        4   \n",
       "\n",
       "        is_success_int  is_sever_fixed  \n",
       "191875               1           False  \n",
       "306186               1           False  \n",
       "107956               1           False  \n",
       "115113               1           False  \n",
       "105870               0           False  "
      ]
     },
     "execution_count": 20,
     "metadata": {},
     "output_type": "execute_result"
    }
   ],
   "source": [
    "three_words_requesters = df[df.requester.apply(lambda s: len(s.split(' ')) == 3)]\n",
    "three_words_requesters.sample(5)"
   ]
  },
  {
   "cell_type": "code",
   "execution_count": 21,
   "id": "f7d4c9cf-1b9a-451c-a7f7-6abf2d2d10ab",
   "metadata": {},
   "outputs": [
    {
     "data": {
      "text/plain": [
       "118141"
      ]
     },
     "execution_count": 21,
     "metadata": {},
     "output_type": "execute_result"
    }
   ],
   "source": [
    "three_words_requesters.shape[0]"
   ]
  },
  {
   "cell_type": "markdown",
   "id": "cfe23f5a-30eb-4b47-b237-4708a4849c27",
   "metadata": {},
   "source": [
    "#### A to Q12:"
   ]
  },
  {
   "cell_type": "code",
   "execution_count": 22,
   "id": "3a776008-2453-4c01-9126-05f87e38447d",
   "metadata": {},
   "outputs": [
    {
     "data": {
      "text/html": [
       "<div>\n",
       "<style scoped>\n",
       "    .dataframe tbody tr th:only-of-type {\n",
       "        vertical-align: middle;\n",
       "    }\n",
       "\n",
       "    .dataframe tbody tr th {\n",
       "        vertical-align: top;\n",
       "    }\n",
       "\n",
       "    .dataframe thead th {\n",
       "        text-align: right;\n",
       "    }\n",
       "</style>\n",
       "<table border=\"1\" class=\"dataframe\">\n",
       "  <thead>\n",
       "    <tr style=\"text-align: right;\">\n",
       "      <th></th>\n",
       "      <th>week_id</th>\n",
       "      <th>ad_id</th>\n",
       "      <th>requester</th>\n",
       "      <th>region</th>\n",
       "      <th>is_success</th>\n",
       "      <th>is_sever</th>\n",
       "      <th>recommendation_type</th>\n",
       "      <th>rec_provider</th>\n",
       "      <th>year</th>\n",
       "      <th>quarter</th>\n",
       "      <th>is_success_int</th>\n",
       "      <th>is_sever_fixed</th>\n",
       "    </tr>\n",
       "  </thead>\n",
       "  <tbody>\n",
       "    <tr>\n",
       "      <th>2</th>\n",
       "      <td>2021-week_33</td>\n",
       "      <td>AD08PDP6Y9</td>\n",
       "      <td>Search Million Culture</td>\n",
       "      <td>DE</td>\n",
       "      <td>yes</td>\n",
       "      <td>NaN</td>\n",
       "      <td>Qality</td>\n",
       "      <td>DNNQ</td>\n",
       "      <td>2021</td>\n",
       "      <td>3</td>\n",
       "      <td>1</td>\n",
       "      <td>False</td>\n",
       "    </tr>\n",
       "    <tr>\n",
       "      <th>3</th>\n",
       "      <td>2021-week_33</td>\n",
       "      <td>AD89608808</td>\n",
       "      <td>Search Million Culture</td>\n",
       "      <td>DE</td>\n",
       "      <td>yes</td>\n",
       "      <td>NaN</td>\n",
       "      <td>Qality</td>\n",
       "      <td>BooksQ</td>\n",
       "      <td>2021</td>\n",
       "      <td>3</td>\n",
       "      <td>1</td>\n",
       "      <td>False</td>\n",
       "    </tr>\n",
       "    <tr>\n",
       "      <th>4</th>\n",
       "      <td>2021-week_33</td>\n",
       "      <td>AD07CMVHP6</td>\n",
       "      <td>Search Million Culture</td>\n",
       "      <td>DE</td>\n",
       "      <td>yes</td>\n",
       "      <td>NaN</td>\n",
       "      <td>Qality</td>\n",
       "      <td>DNNQ</td>\n",
       "      <td>2021</td>\n",
       "      <td>3</td>\n",
       "      <td>1</td>\n",
       "      <td>False</td>\n",
       "    </tr>\n",
       "    <tr>\n",
       "      <th>11</th>\n",
       "      <td>2021-week_33</td>\n",
       "      <td>AD88967068</td>\n",
       "      <td>Search Million Culture</td>\n",
       "      <td>DE</td>\n",
       "      <td>yes</td>\n",
       "      <td>NaN</td>\n",
       "      <td>Qality</td>\n",
       "      <td>BooksQ</td>\n",
       "      <td>2021</td>\n",
       "      <td>3</td>\n",
       "      <td>1</td>\n",
       "      <td>False</td>\n",
       "    </tr>\n",
       "    <tr>\n",
       "      <th>41</th>\n",
       "      <td>2021-week_33</td>\n",
       "      <td>AD07L6JC8W</td>\n",
       "      <td>MoJoe Brewing Company</td>\n",
       "      <td>DE</td>\n",
       "      <td>yes</td>\n",
       "      <td>NaN</td>\n",
       "      <td>Yield</td>\n",
       "      <td>DNNY</td>\n",
       "      <td>2021</td>\n",
       "      <td>3</td>\n",
       "      <td>1</td>\n",
       "      <td>False</td>\n",
       "    </tr>\n",
       "    <tr>\n",
       "      <th>...</th>\n",
       "      <td>...</td>\n",
       "      <td>...</td>\n",
       "      <td>...</td>\n",
       "      <td>...</td>\n",
       "      <td>...</td>\n",
       "      <td>...</td>\n",
       "      <td>...</td>\n",
       "      <td>...</td>\n",
       "      <td>...</td>\n",
       "      <td>...</td>\n",
       "      <td>...</td>\n",
       "      <td>...</td>\n",
       "    </tr>\n",
       "    <tr>\n",
       "      <th>373364</th>\n",
       "      <td>2022-week_52</td>\n",
       "      <td>AD06XJR86M</td>\n",
       "      <td>MoJoe Brewing Company</td>\n",
       "      <td>US</td>\n",
       "      <td>yes</td>\n",
       "      <td>NaN</td>\n",
       "      <td>Yield</td>\n",
       "      <td>RuleBasedY</td>\n",
       "      <td>2022</td>\n",
       "      <td>5</td>\n",
       "      <td>1</td>\n",
       "      <td>False</td>\n",
       "    </tr>\n",
       "    <tr>\n",
       "      <th>373394</th>\n",
       "      <td>2022-week_52</td>\n",
       "      <td>AD08Y6R9WV</td>\n",
       "      <td>MoJoe Brewing Company</td>\n",
       "      <td>US</td>\n",
       "      <td>yes</td>\n",
       "      <td>NaN</td>\n",
       "      <td>Yield</td>\n",
       "      <td>DNNY</td>\n",
       "      <td>2022</td>\n",
       "      <td>5</td>\n",
       "      <td>1</td>\n",
       "      <td>False</td>\n",
       "    </tr>\n",
       "    <tr>\n",
       "      <th>373511</th>\n",
       "      <td>2022-week_52</td>\n",
       "      <td>AD09C68T8Y</td>\n",
       "      <td>MoJoe Brewing Company</td>\n",
       "      <td>US</td>\n",
       "      <td>yes</td>\n",
       "      <td>NaN</td>\n",
       "      <td>Yield</td>\n",
       "      <td>DNNY</td>\n",
       "      <td>2022</td>\n",
       "      <td>5</td>\n",
       "      <td>1</td>\n",
       "      <td>False</td>\n",
       "    </tr>\n",
       "    <tr>\n",
       "      <th>373691</th>\n",
       "      <td>2022-week_52</td>\n",
       "      <td>AD08M86WW8</td>\n",
       "      <td>MoJoe Brewing Company</td>\n",
       "      <td>US</td>\n",
       "      <td>yes</td>\n",
       "      <td>NaN</td>\n",
       "      <td>Yield</td>\n",
       "      <td>DNNY</td>\n",
       "      <td>2022</td>\n",
       "      <td>5</td>\n",
       "      <td>1</td>\n",
       "      <td>False</td>\n",
       "    </tr>\n",
       "    <tr>\n",
       "      <th>373722</th>\n",
       "      <td>2022-week_52</td>\n",
       "      <td>AD09C8X6VY</td>\n",
       "      <td>Search Million Culture</td>\n",
       "      <td>US</td>\n",
       "      <td>yes</td>\n",
       "      <td>NaN</td>\n",
       "      <td>Qality</td>\n",
       "      <td>DNNQ</td>\n",
       "      <td>2022</td>\n",
       "      <td>5</td>\n",
       "      <td>1</td>\n",
       "      <td>False</td>\n",
       "    </tr>\n",
       "  </tbody>\n",
       "</table>\n",
       "<p>24197 rows × 12 columns</p>\n",
       "</div>"
      ],
      "text/plain": [
       "             week_id       ad_id               requester region is_success  \\\n",
       "2       2021-week_33  AD08PDP6Y9  Search Million Culture     DE        yes   \n",
       "3       2021-week_33  AD89608808  Search Million Culture     DE        yes   \n",
       "4       2021-week_33  AD07CMVHP6  Search Million Culture     DE        yes   \n",
       "11      2021-week_33  AD88967068  Search Million Culture     DE        yes   \n",
       "41      2021-week_33  AD07L6JC8W   MoJoe Brewing Company     DE        yes   \n",
       "...              ...         ...                     ...    ...        ...   \n",
       "373364  2022-week_52  AD06XJR86M   MoJoe Brewing Company     US        yes   \n",
       "373394  2022-week_52  AD08Y6R9WV   MoJoe Brewing Company     US        yes   \n",
       "373511  2022-week_52  AD09C68T8Y   MoJoe Brewing Company     US        yes   \n",
       "373691  2022-week_52  AD08M86WW8   MoJoe Brewing Company     US        yes   \n",
       "373722  2022-week_52  AD09C8X6VY  Search Million Culture     US        yes   \n",
       "\n",
       "       is_sever recommendation_type rec_provider  year  quarter  \\\n",
       "2           NaN              Qality         DNNQ  2021        3   \n",
       "3           NaN              Qality       BooksQ  2021        3   \n",
       "4           NaN              Qality         DNNQ  2021        3   \n",
       "11          NaN              Qality       BooksQ  2021        3   \n",
       "41          NaN               Yield         DNNY  2021        3   \n",
       "...         ...                 ...          ...   ...      ...   \n",
       "373364      NaN               Yield   RuleBasedY  2022        5   \n",
       "373394      NaN               Yield         DNNY  2022        5   \n",
       "373511      NaN               Yield         DNNY  2022        5   \n",
       "373691      NaN               Yield         DNNY  2022        5   \n",
       "373722      NaN              Qality         DNNQ  2022        5   \n",
       "\n",
       "        is_success_int  is_sever_fixed  \n",
       "2                    1           False  \n",
       "3                    1           False  \n",
       "4                    1           False  \n",
       "11                   1           False  \n",
       "41                   1           False  \n",
       "...                ...             ...  \n",
       "373364               1           False  \n",
       "373394               1           False  \n",
       "373511               1           False  \n",
       "373691               1           False  \n",
       "373722               1           False  \n",
       "\n",
       "[24197 rows x 12 columns]"
      ]
     },
     "execution_count": 22,
     "metadata": {},
     "output_type": "execute_result"
    }
   ],
   "source": [
    "three_words_requesters[three_words_requesters.ad_id.apply(lambda s: '6' in s)]"
   ]
  },
  {
   "cell_type": "markdown",
   "id": "ea5c242d-d27a-4177-a3d1-b9c844153307",
   "metadata": {},
   "source": [
    "#### A to Q13:"
   ]
  },
  {
   "cell_type": "code",
   "execution_count": 23,
   "id": "77413b9e-b7ad-4fc3-b80e-9f35c25e4d63",
   "metadata": {},
   "outputs": [],
   "source": [
    "def product_digits(s):\n",
    "    x=''.join(c for c in s if c.isdigit())\n",
    "    return math.prod(int(i) for i in x)"
   ]
  },
  {
   "cell_type": "code",
   "execution_count": 24,
   "id": "658ee8f8-72d3-4b1f-9833-84b9d5f9158a",
   "metadata": {},
   "outputs": [
    {
     "data": {
      "text/html": [
       "<div>\n",
       "<style scoped>\n",
       "    .dataframe tbody tr th:only-of-type {\n",
       "        vertical-align: middle;\n",
       "    }\n",
       "\n",
       "    .dataframe tbody tr th {\n",
       "        vertical-align: top;\n",
       "    }\n",
       "\n",
       "    .dataframe thead th {\n",
       "        text-align: right;\n",
       "    }\n",
       "</style>\n",
       "<table border=\"1\" class=\"dataframe\">\n",
       "  <thead>\n",
       "    <tr style=\"text-align: right;\">\n",
       "      <th></th>\n",
       "      <th>week_id</th>\n",
       "      <th>ad_id</th>\n",
       "      <th>requester</th>\n",
       "      <th>region</th>\n",
       "      <th>is_success</th>\n",
       "      <th>is_sever</th>\n",
       "      <th>recommendation_type</th>\n",
       "      <th>rec_provider</th>\n",
       "      <th>year</th>\n",
       "      <th>quarter</th>\n",
       "      <th>is_success_int</th>\n",
       "      <th>is_sever_fixed</th>\n",
       "    </tr>\n",
       "  </thead>\n",
       "  <tbody>\n",
       "    <tr>\n",
       "      <th>37</th>\n",
       "      <td>2021-week_33</td>\n",
       "      <td>AD88898888</td>\n",
       "      <td>Search Million Culture</td>\n",
       "      <td>DE</td>\n",
       "      <td>yes</td>\n",
       "      <td>NaN</td>\n",
       "      <td>Qality</td>\n",
       "      <td>BooksQ</td>\n",
       "      <td>2021</td>\n",
       "      <td>3</td>\n",
       "      <td>1</td>\n",
       "      <td>False</td>\n",
       "    </tr>\n",
       "    <tr>\n",
       "      <th>76</th>\n",
       "      <td>2021-week_33</td>\n",
       "      <td>AD88898786</td>\n",
       "      <td>MoJoe Brewing Company</td>\n",
       "      <td>DE</td>\n",
       "      <td>yes</td>\n",
       "      <td>NaN</td>\n",
       "      <td>Yield</td>\n",
       "      <td>BooksY</td>\n",
       "      <td>2021</td>\n",
       "      <td>3</td>\n",
       "      <td>1</td>\n",
       "      <td>False</td>\n",
       "    </tr>\n",
       "    <tr>\n",
       "      <th>112</th>\n",
       "      <td>2021-week_33</td>\n",
       "      <td>AD88788887</td>\n",
       "      <td>Search Million Culture</td>\n",
       "      <td>DE</td>\n",
       "      <td>yes</td>\n",
       "      <td>NaN</td>\n",
       "      <td>Qality</td>\n",
       "      <td>BooksQ</td>\n",
       "      <td>2021</td>\n",
       "      <td>3</td>\n",
       "      <td>1</td>\n",
       "      <td>False</td>\n",
       "    </tr>\n",
       "    <tr>\n",
       "      <th>162</th>\n",
       "      <td>2021-week_33</td>\n",
       "      <td>AD88887688</td>\n",
       "      <td>Search Million Culture</td>\n",
       "      <td>DE</td>\n",
       "      <td>yes</td>\n",
       "      <td>NaN</td>\n",
       "      <td>Qality</td>\n",
       "      <td>BooksQ</td>\n",
       "      <td>2021</td>\n",
       "      <td>3</td>\n",
       "      <td>1</td>\n",
       "      <td>False</td>\n",
       "    </tr>\n",
       "    <tr>\n",
       "      <th>174</th>\n",
       "      <td>2021-week_33</td>\n",
       "      <td>AD88888876</td>\n",
       "      <td>Search Million Culture</td>\n",
       "      <td>DE</td>\n",
       "      <td>yes</td>\n",
       "      <td>NaN</td>\n",
       "      <td>Qality</td>\n",
       "      <td>BooksQ</td>\n",
       "      <td>2021</td>\n",
       "      <td>3</td>\n",
       "      <td>1</td>\n",
       "      <td>False</td>\n",
       "    </tr>\n",
       "    <tr>\n",
       "      <th>...</th>\n",
       "      <td>...</td>\n",
       "      <td>...</td>\n",
       "      <td>...</td>\n",
       "      <td>...</td>\n",
       "      <td>...</td>\n",
       "      <td>...</td>\n",
       "      <td>...</td>\n",
       "      <td>...</td>\n",
       "      <td>...</td>\n",
       "      <td>...</td>\n",
       "      <td>...</td>\n",
       "      <td>...</td>\n",
       "    </tr>\n",
       "    <tr>\n",
       "      <th>360315</th>\n",
       "      <td>2022-week_52</td>\n",
       "      <td>AD89888888</td>\n",
       "      <td>MoJoe Brewing Company</td>\n",
       "      <td>GB</td>\n",
       "      <td>yes</td>\n",
       "      <td>NaN</td>\n",
       "      <td>Yield</td>\n",
       "      <td>ManualQ</td>\n",
       "      <td>2022</td>\n",
       "      <td>5</td>\n",
       "      <td>1</td>\n",
       "      <td>False</td>\n",
       "    </tr>\n",
       "    <tr>\n",
       "      <th>362075</th>\n",
       "      <td>2022-week_52</td>\n",
       "      <td>AD88888997</td>\n",
       "      <td>Search Million Culture</td>\n",
       "      <td>GB</td>\n",
       "      <td>yes</td>\n",
       "      <td>NaN</td>\n",
       "      <td>Qality</td>\n",
       "      <td>UserPopQ</td>\n",
       "      <td>2022</td>\n",
       "      <td>5</td>\n",
       "      <td>1</td>\n",
       "      <td>False</td>\n",
       "    </tr>\n",
       "    <tr>\n",
       "      <th>362199</th>\n",
       "      <td>2022-week_52</td>\n",
       "      <td>AD88688888</td>\n",
       "      <td>Mission Street Manufacturing</td>\n",
       "      <td>GB</td>\n",
       "      <td>no</td>\n",
       "      <td>False</td>\n",
       "      <td>Qality</td>\n",
       "      <td>UserPopQ</td>\n",
       "      <td>2022</td>\n",
       "      <td>5</td>\n",
       "      <td>0</td>\n",
       "      <td>False</td>\n",
       "    </tr>\n",
       "    <tr>\n",
       "      <th>363286</th>\n",
       "      <td>2022-week_52</td>\n",
       "      <td>AD88887888</td>\n",
       "      <td>Search Million Culture</td>\n",
       "      <td>GB</td>\n",
       "      <td>yes</td>\n",
       "      <td>NaN</td>\n",
       "      <td>Qality</td>\n",
       "      <td>UserPopQ</td>\n",
       "      <td>2022</td>\n",
       "      <td>5</td>\n",
       "      <td>1</td>\n",
       "      <td>False</td>\n",
       "    </tr>\n",
       "    <tr>\n",
       "      <th>372189</th>\n",
       "      <td>2022-week_52</td>\n",
       "      <td>AD88888888</td>\n",
       "      <td>MoJoe Brewing Company</td>\n",
       "      <td>US</td>\n",
       "      <td>yes</td>\n",
       "      <td>NaN</td>\n",
       "      <td>Yield</td>\n",
       "      <td>BooksY</td>\n",
       "      <td>2022</td>\n",
       "      <td>5</td>\n",
       "      <td>1</td>\n",
       "      <td>False</td>\n",
       "    </tr>\n",
       "  </tbody>\n",
       "</table>\n",
       "<p>983 rows × 12 columns</p>\n",
       "</div>"
      ],
      "text/plain": [
       "             week_id       ad_id                     requester region  \\\n",
       "37      2021-week_33  AD88898888        Search Million Culture     DE   \n",
       "76      2021-week_33  AD88898786         MoJoe Brewing Company     DE   \n",
       "112     2021-week_33  AD88788887        Search Million Culture     DE   \n",
       "162     2021-week_33  AD88887688        Search Million Culture     DE   \n",
       "174     2021-week_33  AD88888876        Search Million Culture     DE   \n",
       "...              ...         ...                           ...    ...   \n",
       "360315  2022-week_52  AD89888888         MoJoe Brewing Company     GB   \n",
       "362075  2022-week_52  AD88888997        Search Million Culture     GB   \n",
       "362199  2022-week_52  AD88688888  Mission Street Manufacturing     GB   \n",
       "363286  2022-week_52  AD88887888        Search Million Culture     GB   \n",
       "372189  2022-week_52  AD88888888         MoJoe Brewing Company     US   \n",
       "\n",
       "       is_success is_sever recommendation_type rec_provider  year  quarter  \\\n",
       "37            yes      NaN              Qality       BooksQ  2021        3   \n",
       "76            yes      NaN               Yield       BooksY  2021        3   \n",
       "112           yes      NaN              Qality       BooksQ  2021        3   \n",
       "162           yes      NaN              Qality       BooksQ  2021        3   \n",
       "174           yes      NaN              Qality       BooksQ  2021        3   \n",
       "...           ...      ...                 ...          ...   ...      ...   \n",
       "360315        yes      NaN               Yield      ManualQ  2022        5   \n",
       "362075        yes      NaN              Qality     UserPopQ  2022        5   \n",
       "362199         no    False              Qality     UserPopQ  2022        5   \n",
       "363286        yes      NaN              Qality     UserPopQ  2022        5   \n",
       "372189        yes      NaN               Yield       BooksY  2022        5   \n",
       "\n",
       "        is_success_int  is_sever_fixed  \n",
       "37                   1           False  \n",
       "76                   1           False  \n",
       "112                  1           False  \n",
       "162                  1           False  \n",
       "174                  1           False  \n",
       "...                ...             ...  \n",
       "360315               1           False  \n",
       "362075               1           False  \n",
       "362199               0           False  \n",
       "363286               1           False  \n",
       "372189               1           False  \n",
       "\n",
       "[983 rows x 12 columns]"
      ]
     },
     "execution_count": 24,
     "metadata": {},
     "output_type": "execute_result"
    }
   ],
   "source": [
    "three_words_requesters[three_words_requesters.ad_id.apply(product_digits)>30]"
   ]
  },
  {
   "cell_type": "markdown",
   "id": "11d8b056-c777-490a-b26d-949ee8755561",
   "metadata": {},
   "source": [
    "### Analysis"
   ]
  },
  {
   "cell_type": "markdown",
   "id": "ccae8707-2c86-424a-bd55-73496219adbe",
   "metadata": {},
   "source": [
    "1. How many weeks available in the data? Are there any missing weeks? \n",
    "1. How many regions available in the data? Are there any missing weeks per region? \n",
    "1. How many ads are being sent to annotation in each region per week?\n",
    "1. How many None values are there in is_sever column? \n",
    "1. Are ads being sent more than one time in a given week? what is the ad_id that was sent the most in a given week? (e.g. ad X where sent 50 times in week Y)\n",
    "1. Are there ads that are being sent in more than one week?\n",
    "   1. Which is the ad that was sent in most amount of weeks (e.g. ad X where sent in Y different weeks)\n",
    "   2. What are the weeks that the ad from above was sent in? \n",
    "   3. Is there an Ad that was succsefull in one week, but not succesfful in a different week? Show one.\n",
    "1. When is_sever is None, what is the number of successful requests? What is the number of non-successful requests? What do you learn from it about the reason for Nones in the first place? \n",
    "1. Per each region, What is the Quality/Yield traffic proportion WoW? \n",
    "1. How many different reqeusters are there? \n",
    "1. Which are the top 5 requesters per region? \n",
    "1. Which are the different rec_proivders?\n",
    "1. Are there different rec providers per region? \n",
    "1. Are there different rec providers per rec type?\n",
    "1. What are the notation rules distinguishing between quality vs yielding providers?\n",
    "1. Which is the most successful region of operation? \n",
    "1. Which is the most successful rec provider per each region? \n",
    "1. Present a table with a success rate, sever defects rate and CI (for each metric) per region\n",
    "1. Present a table with a success rate, sever defects rate and CI (for each metric) per rec provider\n",
    "1. Present a table with a success rate, sever defects rate and CI (for each metric) per region and rec provider combinations\n",
    "1. Present a table with a success rate, sever defects rate and CI (for each metric) per rec type (Q/Y)\n",
    "1. Present a table with a success rate, sever defects rate and CI (for each metric) per rec type and region\n",
    "1. Present WoW table/graph with success rate and CI (see image below) per region\n",
    "1. Present WoW table/graph with success rate and CI (see image below) per region and rec type\n",
    "1. Present WoW table/graph with success rate and CI (see image below) per region and rec provider\n",
    "1. Which are the requester to which we succeed the most?\n",
    "1. Which are the requester to which we produce the most critical defects?\n",
    "1. What is the overall success rate trend over time? \n",
    "1. What is the overall sever defect rate trend over time? \n",
    "1. Preset a WoW graph showing the number of requests per customer in each region (hint: [use stacked bars](https://plotly.com/python/bar-charts/)), from it:\n",
    "  1. Identify major traffic shape changes (addition/removal) of major clients\n",
    "1. Preset a WoW graph showing the **requests proportion** per customer in each region (hint: [use stacked bars](https://plotly.com/python/bar-charts/)), from it:\n",
    "  1. Identify major traffic shape changes (addition/removal) of major clients\n"
   ]
  },
  {
   "cell_type": "markdown",
   "id": "5a53ff70-9d99-4466-9400-a8474e1f2798",
   "metadata": {},
   "source": [
    "#### A to Q1:"
   ]
  },
  {
   "cell_type": "code",
   "execution_count": 25,
   "id": "9d6fcd06-93df-4083-985e-7c39465d19f7",
   "metadata": {},
   "outputs": [
    {
     "data": {
      "text/plain": [
       "['2021-week_33',\n",
       " '2021-week_34',\n",
       " '2021-week_35',\n",
       " '2021-week_36',\n",
       " '2021-week_37',\n",
       " '2021-week_38',\n",
       " '2021-week_39',\n",
       " '2021-week_40',\n",
       " '2021-week_41',\n",
       " '2021-week_42',\n",
       " '2021-week_43',\n",
       " '2021-week_44',\n",
       " '2021-week_45',\n",
       " '2021-week_46',\n",
       " '2021-week_47',\n",
       " '2021-week_48',\n",
       " '2021-week_49',\n",
       " '2021-week_50',\n",
       " '2021-week_51',\n",
       " '2022-week_01',\n",
       " '2022-week_02',\n",
       " '2022-week_03',\n",
       " '2022-week_04',\n",
       " '2022-week_05',\n",
       " '2022-week_06',\n",
       " '2022-week_52']"
      ]
     },
     "execution_count": 25,
     "metadata": {},
     "output_type": "execute_result"
    }
   ],
   "source": [
    "sorted(df.week_id.unique())"
   ]
  },
  {
   "cell_type": "code",
   "execution_count": 26,
   "id": "b6c480ae-db5c-47ae-bf9f-1d9acb5af659",
   "metadata": {},
   "outputs": [
    {
     "data": {
      "text/plain": [
       "2021-week_33    14356\n",
       "2021-week_34    14371\n",
       "2021-week_35    14373\n",
       "2021-week_36    14390\n",
       "2021-week_37    14392\n",
       "2021-week_38    14347\n",
       "2021-week_39    14416\n",
       "2021-week_40    14406\n",
       "2021-week_41    14380\n",
       "2021-week_42    14376\n",
       "2021-week_43    14367\n",
       "2021-week_44    14299\n",
       "2021-week_45    14440\n",
       "2021-week_46    14350\n",
       "2021-week_47    14402\n",
       "2021-week_48    14404\n",
       "2021-week_49    14337\n",
       "2021-week_50    14404\n",
       "2021-week_51    12805\n",
       "2022-week_01    14385\n",
       "2022-week_02    14423\n",
       "2022-week_03    14317\n",
       "2022-week_04    14367\n",
       "2022-week_05    14362\n",
       "2022-week_06    14389\n",
       "2022-week_52    15930\n",
       "Name: week_id, dtype: int64"
      ]
     },
     "execution_count": 26,
     "metadata": {},
     "output_type": "execute_result"
    }
   ],
   "source": [
    "df.week_id.value_counts().sort_index()"
   ]
  },
  {
   "cell_type": "markdown",
   "id": "6f4dd182-0e77-4b57-aca9-fed3bcd843c5",
   "metadata": {},
   "source": [
    "#### A to Q2:"
   ]
  },
  {
   "cell_type": "markdown",
   "id": "4409947f-88d7-4e28-97d6-ae0f5d6dd7a3",
   "metadata": {},
   "source": [
    "Option 1:"
   ]
  },
  {
   "cell_type": "code",
   "execution_count": 27,
   "id": "407e19ed-29f8-4fab-bef0-1959e311d326",
   "metadata": {},
   "outputs": [],
   "source": [
    "df['week_number'] = df.week_id.apply(lambda x: int(x.split('_')[1]))"
   ]
  },
  {
   "cell_type": "code",
   "execution_count": 28,
   "id": "f20b8a82-c651-411c-b919-ba860ac61422",
   "metadata": {},
   "outputs": [
    {
     "data": {
      "text/plain": [
       "region\n",
       "DE    [33, 34, 35, 36, 37, 38, 39, 40, 41, 42, 43, 4...\n",
       "GB    [33, 34, 35, 36, 37, 38, 39, 40, 41, 42, 43, 4...\n",
       "IN    [33, 34, 35, 36, 37, 38, 39, 40, 41, 42, 43, 4...\n",
       "JP    [33, 34, 35, 36, 37, 38, 39, 40, 41, 42, 43, 4...\n",
       "US    [33, 34, 35, 36, 37, 38, 39, 40, 41, 42, 43, 4...\n",
       "Name: week_number, dtype: object"
      ]
     },
     "execution_count": 28,
     "metadata": {},
     "output_type": "execute_result"
    }
   ],
   "source": [
    "df.groupby('region').week_number.unique()"
   ]
  },
  {
   "cell_type": "code",
   "execution_count": 29,
   "id": "bb052856-0e6b-42e6-a640-6063bbd39dda",
   "metadata": {},
   "outputs": [],
   "source": [
    "def find_missing_week_id(week_ids):\n",
    "    missing_weeks = []\n",
    "    for i in range (33, 53):\n",
    "        if i not in week_ids:\n",
    "            missing_weeks.append(i)\n",
    "    return missing_weeks"
   ]
  },
  {
   "cell_type": "code",
   "execution_count": 30,
   "id": "c63e4814-bbff-41dd-963d-9bb5bafd2741",
   "metadata": {},
   "outputs": [
    {
     "data": {
      "text/plain": [
       "region\n",
       "DE      []\n",
       "GB      []\n",
       "IN      []\n",
       "JP    [51]\n",
       "US      []\n",
       "Name: week_number, dtype: object"
      ]
     },
     "execution_count": 30,
     "metadata": {},
     "output_type": "execute_result"
    }
   ],
   "source": [
    "df.groupby('region').week_number.unique().apply(find_missing_week_id)"
   ]
  },
  {
   "cell_type": "markdown",
   "id": "44f58196-7297-41ff-98a4-74599e103fa6",
   "metadata": {},
   "source": [
    "Option 2:"
   ]
  },
  {
   "cell_type": "code",
   "execution_count": 31,
   "id": "f82fc344-5d86-4fb1-9ad6-6072ffacb469",
   "metadata": {},
   "outputs": [
    {
     "data": {
      "text/plain": [
       "week_id       region\n",
       "2021-week_33  DE        2395\n",
       "              GB        3180\n",
       "              IN        3196\n",
       "              JP        1611\n",
       "              US        3974\n",
       "dtype: int64"
      ]
     },
     "execution_count": 31,
     "metadata": {},
     "output_type": "execute_result"
    }
   ],
   "source": [
    "row_count_per_week_and_region = df.groupby(['week_id', 'region']).size()\n",
    "row_count_per_week_and_region.head()"
   ]
  },
  {
   "cell_type": "code",
   "execution_count": 32,
   "id": "f740c606-8141-4f5f-aca1-80f089124874",
   "metadata": {},
   "outputs": [
    {
     "data": {
      "text/html": [
       "<div>\n",
       "<style scoped>\n",
       "    .dataframe tbody tr th:only-of-type {\n",
       "        vertical-align: middle;\n",
       "    }\n",
       "\n",
       "    .dataframe tbody tr th {\n",
       "        vertical-align: top;\n",
       "    }\n",
       "\n",
       "    .dataframe thead th {\n",
       "        text-align: right;\n",
       "    }\n",
       "</style>\n",
       "<table border=\"1\" class=\"dataframe\">\n",
       "  <thead>\n",
       "    <tr style=\"text-align: right;\">\n",
       "      <th>region</th>\n",
       "      <th>DE</th>\n",
       "      <th>GB</th>\n",
       "      <th>IN</th>\n",
       "      <th>JP</th>\n",
       "      <th>US</th>\n",
       "    </tr>\n",
       "    <tr>\n",
       "      <th>week_id</th>\n",
       "      <th></th>\n",
       "      <th></th>\n",
       "      <th></th>\n",
       "      <th></th>\n",
       "      <th></th>\n",
       "    </tr>\n",
       "  </thead>\n",
       "  <tbody>\n",
       "    <tr>\n",
       "      <th>2021-week_33</th>\n",
       "      <td>2395.0</td>\n",
       "      <td>3180.0</td>\n",
       "      <td>3196.0</td>\n",
       "      <td>1611.0</td>\n",
       "      <td>3974.0</td>\n",
       "    </tr>\n",
       "    <tr>\n",
       "      <th>2021-week_34</th>\n",
       "      <td>2360.0</td>\n",
       "      <td>3187.0</td>\n",
       "      <td>3219.0</td>\n",
       "      <td>1599.0</td>\n",
       "      <td>4006.0</td>\n",
       "    </tr>\n",
       "    <tr>\n",
       "      <th>2021-week_35</th>\n",
       "      <td>2393.0</td>\n",
       "      <td>3209.0</td>\n",
       "      <td>3209.0</td>\n",
       "      <td>1580.0</td>\n",
       "      <td>3982.0</td>\n",
       "    </tr>\n",
       "    <tr>\n",
       "      <th>2021-week_36</th>\n",
       "      <td>2401.0</td>\n",
       "      <td>3209.0</td>\n",
       "      <td>3213.0</td>\n",
       "      <td>1589.0</td>\n",
       "      <td>3978.0</td>\n",
       "    </tr>\n",
       "    <tr>\n",
       "      <th>2021-week_37</th>\n",
       "      <td>2404.0</td>\n",
       "      <td>3181.0</td>\n",
       "      <td>3183.0</td>\n",
       "      <td>1644.0</td>\n",
       "      <td>3980.0</td>\n",
       "    </tr>\n",
       "  </tbody>\n",
       "</table>\n",
       "</div>"
      ],
      "text/plain": [
       "region            DE      GB      IN      JP      US\n",
       "week_id                                             \n",
       "2021-week_33  2395.0  3180.0  3196.0  1611.0  3974.0\n",
       "2021-week_34  2360.0  3187.0  3219.0  1599.0  4006.0\n",
       "2021-week_35  2393.0  3209.0  3209.0  1580.0  3982.0\n",
       "2021-week_36  2401.0  3209.0  3213.0  1589.0  3978.0\n",
       "2021-week_37  2404.0  3181.0  3183.0  1644.0  3980.0"
      ]
     },
     "execution_count": 32,
     "metadata": {},
     "output_type": "execute_result"
    }
   ],
   "source": [
    "row_count_per_week_and_region = row_count_per_week_and_region.unstack('region')\n",
    "row_count_per_week_and_region.head()"
   ]
  },
  {
   "cell_type": "code",
   "execution_count": 33,
   "id": "34fac867-2ea1-43c9-ac2d-ad4ae5e82129",
   "metadata": {},
   "outputs": [
    {
     "data": {
      "text/plain": [
       "region\n",
       "DE    2402.0\n",
       "GB    3191.0\n",
       "IN    3184.0\n",
       "JP    1599.0\n",
       "US    4009.0\n",
       "Name: 2022-week_01, dtype: float64"
      ]
     },
     "execution_count": 33,
     "metadata": {},
     "output_type": "execute_result"
    }
   ],
   "source": [
    "row_count_per_week_and_region.sample().iloc[0]"
   ]
  },
  {
   "cell_type": "code",
   "execution_count": 34,
   "id": "507c7c15-85b3-4006-a5ba-05dd59b677c5",
   "metadata": {},
   "outputs": [],
   "source": [
    "def count_nans_in_row(row):\n",
    "    return row.isnull().sum()"
   ]
  },
  {
   "cell_type": "code",
   "execution_count": 35,
   "id": "9492b4dd-759f-471e-978d-37b47f608aaa",
   "metadata": {},
   "outputs": [
    {
     "data": {
      "text/plain": [
       "week_id\n",
       "2021-week_33    0\n",
       "2021-week_34    0\n",
       "2021-week_35    0\n",
       "2021-week_36    0\n",
       "2021-week_37    0\n",
       "2021-week_38    0\n",
       "2021-week_39    0\n",
       "2021-week_40    0\n",
       "2021-week_41    0\n",
       "2021-week_42    0\n",
       "2021-week_43    0\n",
       "2021-week_44    0\n",
       "2021-week_45    0\n",
       "2021-week_46    0\n",
       "2021-week_47    0\n",
       "2021-week_48    0\n",
       "2021-week_49    0\n",
       "2021-week_50    0\n",
       "2021-week_51    1\n",
       "2022-week_01    0\n",
       "2022-week_02    0\n",
       "2022-week_03    0\n",
       "2022-week_04    0\n",
       "2022-week_05    0\n",
       "2022-week_06    0\n",
       "2022-week_52    0\n",
       "dtype: int64"
      ]
     },
     "execution_count": 35,
     "metadata": {},
     "output_type": "execute_result"
    }
   ],
   "source": [
    "row_count_per_week_and_region.apply(count_nans_in_row, axis=1)"
   ]
  },
  {
   "cell_type": "code",
   "execution_count": 36,
   "id": "b1f7d18c-56ed-4c72-bc88-3e9c0ff05a2c",
   "metadata": {},
   "outputs": [
    {
     "data": {
      "text/plain": [
       "0"
      ]
     },
     "execution_count": 36,
     "metadata": {},
     "output_type": "execute_result"
    }
   ],
   "source": [
    "count_nans_in_row(row_count_per_week_and_region.iloc[0])"
   ]
  },
  {
   "cell_type": "code",
   "execution_count": 37,
   "id": "6f8e7128-97fd-4011-a9f5-c16a3a1ee9fe",
   "metadata": {},
   "outputs": [
    {
     "data": {
      "text/plain": [
       "2"
      ]
     },
     "execution_count": 37,
     "metadata": {},
     "output_type": "execute_result"
    }
   ],
   "source": [
    "count_nans_in_row(pd.Series([None, 1, 2, None]))"
   ]
  },
  {
   "cell_type": "code",
   "execution_count": 38,
   "id": "bb4be588-2dde-4ca0-97b2-b8f0ae6c7265",
   "metadata": {},
   "outputs": [
    {
     "data": {
      "text/plain": [
       "region\n",
       "DE                                                 None\n",
       "GB                                                 None\n",
       "IN                                                 None\n",
       "JP    Index(['2021-week_51'], dtype='object', name='...\n",
       "US                                                 None\n",
       "dtype: object"
      ]
     },
     "execution_count": 38,
     "metadata": {},
     "output_type": "execute_result"
    }
   ],
   "source": [
    "df.groupby(['week_id', 'region']).size().unstack(['region']).apply(lambda col: 'None' if col.isnull().sum() == 0 else col[col.isnull()].index,axis=0)"
   ]
  },
  {
   "cell_type": "code",
   "execution_count": 39,
   "id": "0e604a5b-c47d-4b97-8cf7-96beb83ee991",
   "metadata": {},
   "outputs": [
    {
     "name": "stdout",
     "output_type": "stream",
     "text": [
      "Number of region available in the data : 5\n"
     ]
    }
   ],
   "source": [
    "print(f'Number of region available in the data : {df.region.value_counts().shape[0]}')"
   ]
  },
  {
   "cell_type": "markdown",
   "id": "9710944a-6629-4d74-8b71-4d57a2554c91",
   "metadata": {},
   "source": [
    "A to Q3:"
   ]
  },
  {
   "cell_type": "code",
   "execution_count": 40,
   "id": "ca6b771d-7715-486b-9ef0-9a7b1fc33671",
   "metadata": {},
   "outputs": [
    {
     "data": {
      "text/plain": [
       "region  week_id     \n",
       "DE      2021-week_33    2395\n",
       "        2021-week_34    2360\n",
       "        2021-week_35    2393\n",
       "        2021-week_36    2401\n",
       "        2021-week_37    2404\n",
       "                        ... \n",
       "US      2022-week_03    3979\n",
       "        2022-week_04    3999\n",
       "        2022-week_05    3998\n",
       "        2022-week_06    3992\n",
       "        2022-week_52    3998\n",
       "Name: ad_id, Length: 129, dtype: int64"
      ]
     },
     "execution_count": 40,
     "metadata": {},
     "output_type": "execute_result"
    }
   ],
   "source": [
    "df.groupby(['region','week_id']).ad_id.count()"
   ]
  },
  {
   "cell_type": "markdown",
   "id": "01238f4e-2c08-4cd7-b6f1-99f6ad0bdcbd",
   "metadata": {},
   "source": [
    "#### A to Q4:"
   ]
  },
  {
   "cell_type": "code",
   "execution_count": 41,
   "id": "924dfd97-4329-4f8f-bb5a-918488ac30b1",
   "metadata": {},
   "outputs": [
    {
     "name": "stdout",
     "output_type": "stream",
     "text": [
      "Number of NaN in is_sever column : 304195\n"
     ]
    }
   ],
   "source": [
    "print(f'Number of NaN in is_sever column : {df.is_sever.isna().sum()}')"
   ]
  },
  {
   "cell_type": "markdown",
   "id": "9b1c5f57-f655-4704-96b0-29b43e370665",
   "metadata": {},
   "source": [
    "#### A to Q5:"
   ]
  },
  {
   "cell_type": "code",
   "execution_count": 42,
   "id": "c92f5a19-b7e1-4d52-b421-2e686ce65a55",
   "metadata": {},
   "outputs": [
    {
     "name": "stdout",
     "output_type": "stream",
     "text": [
      "ad AD098SWYF6 where sent 81 times at 2021-week_40\n"
     ]
    }
   ],
   "source": [
    "groupby_week=df.groupby('week_id').ad_id.value_counts()\n",
    "groupby_week[groupby_week>1].sample(5)\n",
    "\n",
    "max_count_ad_idx=groupby_week.idxmax()\n",
    "max_count_ad=groupby_week.loc[max_count_ad_idx]\n",
    "                      \n",
    "print(f'ad {max_count_ad_idx[1]} where sent {max_count_ad} times at {max_count_ad_idx[0]}')"
   ]
  },
  {
   "cell_type": "markdown",
   "id": "b690b093-1c2c-4478-afd7-f3e8df8536c9",
   "metadata": {},
   "source": [
    "#### A to Q6:"
   ]
  },
  {
   "cell_type": "code",
   "execution_count": 43,
   "id": "76c9176f-f908-4cf3-a085-bb6b34b3c132",
   "metadata": {},
   "outputs": [
    {
     "name": "stdout",
     "output_type": "stream",
     "text": [
      "ad AD07PFFMP9 where sent in different 247 weeks\n"
     ]
    }
   ],
   "source": [
    "groupby_ad=df.groupby('ad_id').week_id.count()\n",
    "ad_max_count_week_idx=groupby_ad.idxmax()\n",
    "max_count_week=groupby_ad[ad_max_count_week_idx]\n",
    "\n",
    "print(f'ad {ad_max_count_week_idx} where sent in different {max_count_week} weeks')"
   ]
  },
  {
   "cell_type": "code",
   "execution_count": 44,
   "id": "3a107d02-fe0f-40a8-b5c4-d76349251120",
   "metadata": {},
   "outputs": [
    {
     "data": {
      "text/plain": [
       "7031      2021-week_33\n",
       "7032      2021-week_33\n",
       "20010     2021-week_34\n",
       "20011     2021-week_34\n",
       "35214     2021-week_35\n",
       "              ...     \n",
       "363533    2022-week_52\n",
       "363534    2022-week_52\n",
       "363535    2022-week_52\n",
       "363536    2022-week_52\n",
       "365817    2022-week_52\n",
       "Name: week_id, Length: 247, dtype: object"
      ]
     },
     "execution_count": 44,
     "metadata": {},
     "output_type": "execute_result"
    }
   ],
   "source": [
    "df[df.ad_id==ad_max_count_week_idx].week_id"
   ]
  },
  {
   "cell_type": "code",
   "execution_count": 45,
   "id": "4f640378-9b34-45a8-849c-becd9da4c445",
   "metadata": {},
   "outputs": [
    {
     "name": "stdout",
     "output_type": "stream",
     "text": [
      "       ad_id     week_id_x is_success_x     week_id_y is_success_y\n",
      "0  AD07H9DVL  2021-week_33          yes  2021-week_40           no\n",
      "1  AD07H9DVL  2021-week_33          yes  2021-week_41           no\n",
      "2  AD07H9DVL  2021-week_35          yes  2021-week_40           no\n",
      "3  AD07H9DVL  2021-week_35          yes  2021-week_41           no\n",
      "4  AD07H9DVL  2021-week_40          yes  2021-week_40           no\n"
     ]
    }
   ],
   "source": [
    "ad_success=df[df.is_success=='yes']\n",
    "ad_no_success=df[df.is_success=='no']\n",
    "\n",
    "print(pd.merge(ad_success, ad_no_success, on=['ad_id'], how='inner')[['ad_id','week_id_x','is_success_x','week_id_y','is_success_y']].head())"
   ]
  },
  {
   "cell_type": "markdown",
   "id": "91db9531-9a2b-4d9f-bbf5-dace0da0a317",
   "metadata": {},
   "source": [
    "#### A to Q7:"
   ]
  },
  {
   "cell_type": "code",
   "execution_count": 46,
   "id": "f8ceb986-ffec-451f-ae68-a68d996ca3d0",
   "metadata": {},
   "outputs": [
    {
     "name": "stdout",
     "output_type": "stream",
     "text": [
      "Number of is_sever=NaN and is_success=yes id : 304189\n",
      "Number of is_sever=NaN and is_success=yes id : 6\n",
      "Number of is_sever=true  and is_success=no   : 44677\n",
      "Number of is_sever=false and is_success=no   : 24899\n"
     ]
    }
   ],
   "source": [
    "sever_na_success_yes=df[(df.is_sever.isna()) & (df.is_success=='yes')].shape[0]\n",
    "sever_na_success_no=df[(df.is_sever.isna()) & (df.is_success=='no')].shape[0]\n",
    "\n",
    "print(f'Number of is_sever=NaN and is_success=yes id : {sever_na_success_yes}')\n",
    "print(f'Number of is_sever=NaN and is_success=yes id : {sever_na_success_no}')\n",
    "\n",
    "sever_true_success_no=df[(df.is_sever==True) & (df.is_success=='no')].shape[0]\n",
    "sever_false_success_no=df[(df.is_sever==False) & (df.is_success=='no')].shape[0]\n",
    "\n",
    "print(f'Number of is_sever=true  and is_success=no   : {sever_true_success_no}')\n",
    "print(f'Number of is_sever=false and is_success=no   : {sever_false_success_no}')"
   ]
  },
  {
   "cell_type": "markdown",
   "id": "4b43f8d8-43a5-466b-b1ee-8587b09eaec0",
   "metadata": {},
   "source": [
    "A to Q8:"
   ]
  },
  {
   "cell_type": "code",
   "execution_count": 47,
   "id": "0d403650-cef5-4477-8006-56f4d7dfb41c",
   "metadata": {},
   "outputs": [
    {
     "data": {
      "text/plain": [
       "region  week_number\n",
       "DE      1              5.388298\n",
       "        2              5.523161\n",
       "        3              3.784708\n",
       "        4              6.232416\n",
       "        5              4.631206\n",
       "                         ...   \n",
       "US      48             0.446087\n",
       "        49             1.051361\n",
       "        50             0.877234\n",
       "        51             0.433286\n",
       "        52             0.481289\n",
       "Name: Qality/Yield Ratio, Length: 129, dtype: float64"
      ]
     },
     "execution_count": 47,
     "metadata": {},
     "output_type": "execute_result"
    }
   ],
   "source": [
    "df.groupby(['region','week_number']).recommendation_type.value_counts().unstack().apply(lambda r:r['Qality']/r['Yield'], axis=1).rename('Qality/Yield Ratio')"
   ]
  },
  {
   "cell_type": "markdown",
   "id": "7ceabd49-7779-428a-92c3-b394b8885ffd",
   "metadata": {},
   "source": [
    "#### A to Q9:"
   ]
  },
  {
   "cell_type": "code",
   "execution_count": 48,
   "id": "2384737b-4c3c-47bb-b0d7-7f5912a80966",
   "metadata": {},
   "outputs": [
    {
     "data": {
      "text/plain": [
       "36"
      ]
     },
     "execution_count": 48,
     "metadata": {},
     "output_type": "execute_result"
    }
   ],
   "source": [
    "df.requester.nunique()"
   ]
  },
  {
   "cell_type": "markdown",
   "id": "216abb03-4f27-4337-a5e2-3f52f6ea0ef7",
   "metadata": {},
   "source": [
    "#### A to Q10:"
   ]
  },
  {
   "cell_type": "code",
   "execution_count": 49,
   "id": "d7235946-3d71-4096-8dc1-c52fdcf0dbfc",
   "metadata": {},
   "outputs": [
    {
     "data": {
      "text/plain": [
       "region  requester             \n",
       "DE      Search Million Culture    23657\n",
       "        RelayFoods                17313\n",
       "        MoJoe Brewing Company      8616\n",
       "        iDreamsky Technology       3542\n",
       "        SOLOMO365                  2435\n",
       "GB      Search Million Culture    28002\n",
       "        RelayFoods                15920\n",
       "        Fancy                     13678\n",
       "        MoJoe Brewing Company      9530\n",
       "        iDreamsky Technology       3919\n",
       "IN      Puentes Company           29427\n",
       "        Search Million Culture    21365\n",
       "        RelayFoods                17352\n",
       "        MoJoe Brewing Company      7191\n",
       "        iDreamsky Technology       1995\n",
       "JP      RelayFoods                24574\n",
       "        Search Million Culture     7906\n",
       "        MoJoe Brewing Company      3549\n",
       "        LocalVox Media             1724\n",
       "        Tab Solutions              1366\n",
       "US      Extreme DA                57215\n",
       "        Fancy                     18668\n",
       "        Tab Solutions              9790\n",
       "        Search Million Culture     5610\n",
       "        Sensor Tower               3503\n",
       "Name: requester, dtype: int64"
      ]
     },
     "execution_count": 49,
     "metadata": {},
     "output_type": "execute_result"
    }
   ],
   "source": [
    "df.groupby('region').requester.value_counts().groupby(level=0).head(5)"
   ]
  },
  {
   "cell_type": "markdown",
   "id": "1d742c49-ea30-434f-9456-9c4ea27ab5d7",
   "metadata": {
    "tags": []
   },
   "source": [
    "#### A to Q11:"
   ]
  },
  {
   "cell_type": "code",
   "execution_count": 50,
   "id": "6a9e375c-a465-4e87-922a-a6dcbdfa759d",
   "metadata": {},
   "outputs": [
    {
     "data": {
      "text/plain": [
       "array(['DNNQ', 'DNNY', 'BooksQ', 'UserPopQ', 'UserPopY', 'RuleBasedY',\n",
       "       'ManualY', 'ManualQ', 'BooksY', 'XGBQ', 'XGBY', 'RNNQ', 'RNNY',\n",
       "       'RuleBased', 'UserPopSelectionQ', 'UserPopSelectionY'],\n",
       "      dtype=object)"
      ]
     },
     "execution_count": 50,
     "metadata": {},
     "output_type": "execute_result"
    }
   ],
   "source": [
    "df.rec_provider.unique()"
   ]
  },
  {
   "cell_type": "markdown",
   "id": "2e5516dc-8e52-4598-9e87-9406fb0cef3d",
   "metadata": {},
   "source": [
    "#### A to Q12:"
   ]
  },
  {
   "cell_type": "code",
   "execution_count": 51,
   "id": "9103750f-8b1e-4ffd-a26c-47737cad5774",
   "metadata": {},
   "outputs": [
    {
     "data": {
      "text/plain": [
       "region\n",
       "DE     9\n",
       "GB    12\n",
       "IN     6\n",
       "JP     9\n",
       "US    14\n",
       "Name: rec_provider, dtype: int64"
      ]
     },
     "execution_count": 51,
     "metadata": {},
     "output_type": "execute_result"
    }
   ],
   "source": [
    "df.groupby('region').rec_provider.nunique()"
   ]
  },
  {
   "cell_type": "markdown",
   "id": "cfa41800-4a68-4fa8-a4c9-bc774a9db5b4",
   "metadata": {},
   "source": [
    "#### A to Q13:"
   ]
  },
  {
   "cell_type": "code",
   "execution_count": 52,
   "id": "4d98d026-6090-45a1-83fc-95b2a4e9778e",
   "metadata": {},
   "outputs": [
    {
     "data": {
      "text/plain": [
       "rec_provider\n",
       "BooksQ               1\n",
       "BooksY               1\n",
       "DNNQ                 1\n",
       "DNNY                 1\n",
       "ManualQ              2\n",
       "ManualY              2\n",
       "RNNQ                 1\n",
       "RNNY                 1\n",
       "RuleBased            1\n",
       "RuleBasedY           1\n",
       "UserPopQ             1\n",
       "UserPopSelectionQ    1\n",
       "UserPopSelectionY    1\n",
       "UserPopY             1\n",
       "XGBQ                 1\n",
       "XGBY                 1\n",
       "Name: recommendation_type, dtype: int64"
      ]
     },
     "execution_count": 52,
     "metadata": {},
     "output_type": "execute_result"
    }
   ],
   "source": [
    "df.groupby('rec_provider').recommendation_type.nunique()"
   ]
  },
  {
   "cell_type": "code",
   "execution_count": 53,
   "id": "150d3681-c0e0-4152-8f6e-5058d48a8909",
   "metadata": {},
   "outputs": [
    {
     "data": {
      "text/html": [
       "<div>\n",
       "<style scoped>\n",
       "    .dataframe tbody tr th:only-of-type {\n",
       "        vertical-align: middle;\n",
       "    }\n",
       "\n",
       "    .dataframe tbody tr th {\n",
       "        vertical-align: top;\n",
       "    }\n",
       "\n",
       "    .dataframe thead th {\n",
       "        text-align: right;\n",
       "    }\n",
       "</style>\n",
       "<table border=\"1\" class=\"dataframe\">\n",
       "  <thead>\n",
       "    <tr style=\"text-align: right;\">\n",
       "      <th></th>\n",
       "      <th>rec_provider</th>\n",
       "      <th>recommendation_type</th>\n",
       "    </tr>\n",
       "  </thead>\n",
       "  <tbody>\n",
       "    <tr>\n",
       "      <th>4</th>\n",
       "      <td>ManualQ</td>\n",
       "      <td>2</td>\n",
       "    </tr>\n",
       "    <tr>\n",
       "      <th>5</th>\n",
       "      <td>ManualY</td>\n",
       "      <td>2</td>\n",
       "    </tr>\n",
       "  </tbody>\n",
       "</table>\n",
       "</div>"
      ],
      "text/plain": [
       "  rec_provider  recommendation_type\n",
       "4      ManualQ                    2\n",
       "5      ManualY                    2"
      ]
     },
     "execution_count": 53,
     "metadata": {},
     "output_type": "execute_result"
    }
   ],
   "source": [
    "df.groupby('rec_provider').recommendation_type.nunique().reset_index().query('recommendation_type != 1')"
   ]
  },
  {
   "cell_type": "code",
   "execution_count": 54,
   "id": "2c410394-318b-4d36-bdd5-7fbbfe769cf3",
   "metadata": {},
   "outputs": [
    {
     "data": {
      "text/plain": [
       "True"
      ]
     },
     "execution_count": 54,
     "metadata": {},
     "output_type": "execute_result"
    }
   ],
   "source": [
    "(df.groupby('rec_provider').recommendation_type!=1)"
   ]
  },
  {
   "cell_type": "markdown",
   "id": "e9e6a254-3a3c-49cb-98be-c0d80b6c8de4",
   "metadata": {},
   "source": [
    "#### A to Q14:"
   ]
  },
  {
   "cell_type": "code",
   "execution_count": 55,
   "id": "7ce2e6d5-e4ef-4a1b-a189-6a2f37a086da",
   "metadata": {},
   "outputs": [
    {
     "data": {
      "text/plain": [
       "rec_provider       recommendation_type\n",
       "BooksQ             Qality                   1720\n",
       "BooksY             Yield                    4150\n",
       "DNNQ               Qality                 117424\n",
       "DNNY               Yield                   45116\n",
       "ManualQ            Qality                  10220\n",
       "                   Yield                    3624\n",
       "ManualY            Qality                   1439\n",
       "                   Yield                     543\n",
       "RNNQ               Qality                  20983\n",
       "RNNY               Yield                   12732\n",
       "RuleBased          Qality                    182\n",
       "RuleBasedY         Yield                   28154\n",
       "UserPopQ           Qality                  69937\n",
       "UserPopSelectionQ  Qality                   2417\n",
       "UserPopSelectionY  Yield                      21\n",
       "UserPopY           Yield                   38600\n",
       "XGBQ               Qality                  12250\n",
       "XGBY               Yield                    4276\n",
       "dtype: int64"
      ]
     },
     "execution_count": 55,
     "metadata": {},
     "output_type": "execute_result"
    }
   ],
   "source": [
    "df.groupby(['rec_provider','recommendation_type'])[['rec_provider','recommendation_type']].value_counts()"
   ]
  },
  {
   "cell_type": "code",
   "execution_count": 56,
   "id": "146a4bdd-8162-428c-83db-132a450502d6",
   "metadata": {},
   "outputs": [
    {
     "data": {
      "text/html": [
       "<div>\n",
       "<style scoped>\n",
       "    .dataframe tbody tr th:only-of-type {\n",
       "        vertical-align: middle;\n",
       "    }\n",
       "\n",
       "    .dataframe tbody tr th {\n",
       "        vertical-align: top;\n",
       "    }\n",
       "\n",
       "    .dataframe thead th {\n",
       "        text-align: right;\n",
       "    }\n",
       "</style>\n",
       "<table border=\"1\" class=\"dataframe\">\n",
       "  <thead>\n",
       "    <tr style=\"text-align: right;\">\n",
       "      <th></th>\n",
       "      <th>rec_provider</th>\n",
       "      <th>recommendation_type</th>\n",
       "    </tr>\n",
       "  </thead>\n",
       "  <tbody>\n",
       "    <tr>\n",
       "      <th>24</th>\n",
       "      <td>ManualY</td>\n",
       "      <td>Qality</td>\n",
       "    </tr>\n",
       "    <tr>\n",
       "      <th>313</th>\n",
       "      <td>ManualY</td>\n",
       "      <td>Qality</td>\n",
       "    </tr>\n",
       "    <tr>\n",
       "      <th>314</th>\n",
       "      <td>ManualY</td>\n",
       "      <td>Qality</td>\n",
       "    </tr>\n",
       "    <tr>\n",
       "      <th>315</th>\n",
       "      <td>ManualY</td>\n",
       "      <td>Qality</td>\n",
       "    </tr>\n",
       "    <tr>\n",
       "      <th>316</th>\n",
       "      <td>ManualY</td>\n",
       "      <td>Qality</td>\n",
       "    </tr>\n",
       "    <tr>\n",
       "      <th>...</th>\n",
       "      <td>...</td>\n",
       "      <td>...</td>\n",
       "    </tr>\n",
       "    <tr>\n",
       "      <th>373203</th>\n",
       "      <td>ManualQ</td>\n",
       "      <td>Yield</td>\n",
       "    </tr>\n",
       "    <tr>\n",
       "      <th>373272</th>\n",
       "      <td>ManualY</td>\n",
       "      <td>Qality</td>\n",
       "    </tr>\n",
       "    <tr>\n",
       "      <th>373570</th>\n",
       "      <td>ManualQ</td>\n",
       "      <td>Yield</td>\n",
       "    </tr>\n",
       "    <tr>\n",
       "      <th>373584</th>\n",
       "      <td>ManualQ</td>\n",
       "      <td>Yield</td>\n",
       "    </tr>\n",
       "    <tr>\n",
       "      <th>373670</th>\n",
       "      <td>ManualQ</td>\n",
       "      <td>Yield</td>\n",
       "    </tr>\n",
       "  </tbody>\n",
       "</table>\n",
       "<p>5245 rows × 2 columns</p>\n",
       "</div>"
      ],
      "text/plain": [
       "       rec_provider recommendation_type\n",
       "24          ManualY              Qality\n",
       "313         ManualY              Qality\n",
       "314         ManualY              Qality\n",
       "315         ManualY              Qality\n",
       "316         ManualY              Qality\n",
       "...             ...                 ...\n",
       "373203      ManualQ               Yield\n",
       "373272      ManualY              Qality\n",
       "373570      ManualQ               Yield\n",
       "373584      ManualQ               Yield\n",
       "373670      ManualQ               Yield\n",
       "\n",
       "[5245 rows x 2 columns]"
      ]
     },
     "execution_count": 56,
     "metadata": {},
     "output_type": "execute_result"
    }
   ],
   "source": [
    "df[df.rec_provider.str[-1]!=df.recommendation_type.str[0]][['rec_provider','recommendation_type']]"
   ]
  },
  {
   "cell_type": "code",
   "execution_count": 57,
   "id": "5af870e7-17e1-4cbf-b4dc-2a5363e78163",
   "metadata": {},
   "outputs": [
    {
     "name": "stdout",
     "output_type": "stream",
     "text": [
      "['RuleBased']\n"
     ]
    }
   ],
   "source": [
    "l1=df.rec_provider.unique()\n",
    "l2=df.rec_provider.str[:-1].unique()\n",
    "l1_intersec_l2=[x for x in l1 if x in l2]\n",
    "print(l1_intersec_l2)"
   ]
  },
  {
   "cell_type": "code",
   "execution_count": 58,
   "id": "ad745e42-f33a-48d7-ad89-ac307b449dfb",
   "metadata": {},
   "outputs": [
    {
     "data": {
      "text/plain": [
       "113268    Qality\n",
       "91727     Qality\n",
       "305924    Qality\n",
       "212785    Qality\n",
       "313482    Qality\n",
       "147635    Qality\n",
       "71664     Qality\n",
       "289208    Qality\n",
       "27213     Qality\n",
       "327038    Qality\n",
       "Name: recommendation_type, dtype: object"
      ]
     },
     "execution_count": 58,
     "metadata": {},
     "output_type": "execute_result"
    }
   ],
   "source": [
    "df[df.rec_provider=='RuleBased']['recommendation_type'].sample(10)"
   ]
  },
  {
   "cell_type": "markdown",
   "id": "3997362b-bbcc-4f9d-943c-c21ead057881",
   "metadata": {},
   "source": [
    "#### A to Q15:"
   ]
  },
  {
   "cell_type": "code",
   "execution_count": 59,
   "id": "80eee8ab-21d3-409c-a801-d8739b2305bc",
   "metadata": {},
   "outputs": [
    {
     "data": {
      "text/plain": [
       "'US'"
      ]
     },
     "execution_count": 59,
     "metadata": {},
     "output_type": "execute_result"
    }
   ],
   "source": [
    "df.groupby('region').is_success.value_counts().unstack()['yes'].idxmax()"
   ]
  },
  {
   "cell_type": "markdown",
   "id": "7a93dcc5-0613-4b97-a8d7-42a075bd8239",
   "metadata": {},
   "source": [
    "#### A to Q16:"
   ]
  },
  {
   "cell_type": "code",
   "execution_count": 60,
   "id": "7f8f1e49-4362-4046-b55d-f7420251bffb",
   "metadata": {},
   "outputs": [
    {
     "data": {
      "text/plain": [
       "region\n",
       "DE        DNNQ\n",
       "GB        DNNQ\n",
       "IN    UserPopQ\n",
       "JP        DNNQ\n",
       "US        DNNY\n",
       "Name: yes, dtype: object"
      ]
     },
     "execution_count": 60,
     "metadata": {},
     "output_type": "execute_result"
    }
   ],
   "source": [
    "df.groupby(['region','rec_provider']).is_success.value_counts().unstack()['yes'].groupby(level=0).idxmax().str[1]"
   ]
  },
  {
   "cell_type": "markdown",
   "id": "863b7401-1f04-4dc2-ac81-5c7afb7044f3",
   "metadata": {},
   "source": [
    "#### A to Q17:"
   ]
  },
  {
   "cell_type": "code",
   "execution_count": 61,
   "id": "ebde2ea7-5d37-4b60-9ece-998faaf4a01d",
   "metadata": {},
   "outputs": [],
   "source": [
    "def CI_prob(p_hat,n,alpha,item):\n",
    "    if item == 'low':\n",
    "        sgn=-1\n",
    "    if item == 'high':\n",
    "        sgn=1\n",
    "    \n",
    "    z= norm.ppf(1-alpha/2)\n",
    "    return p_hat+sgn*z*math.sqrt(p_hat*(1-p_hat)/n)"
   ]
  },
  {
   "cell_type": "code",
   "execution_count": 62,
   "id": "e8e4fa24-385a-409c-8c16-20c9632dbef0",
   "metadata": {},
   "outputs": [
    {
     "name": "stdout",
     "output_type": "stream",
     "text": [
      "        success_rate   count  CI_95_low  CI_95_high\n",
      "region                                             \n",
      "DE          0.814192   62177   0.811135    0.817249\n",
      "GB          0.837619   82984   0.835110    0.840129\n",
      "IN          0.761900   83154   0.759005    0.764795\n",
      "JP          0.763927   41627   0.759848    0.768007\n",
      "US          0.856249  103846   0.854115    0.858383\n"
     ]
    }
   ],
   "source": [
    "df1=df.groupby('region').is_success.value_counts(normalize=True).unstack('is_success')['yes'].rename('success_rate').to_frame()\n",
    "df1['count']=df.groupby('region').is_success.count()\n",
    "\n",
    "df1['CI_95_low']= df1.apply(lambda row: CI_prob(row['success_rate'], row['count'],0.05,'low') ,axis=1)\n",
    "df1['CI_95_high']=df1.apply(lambda row: CI_prob(row['success_rate'], row['count'],0.05,'high'),axis=1)\n",
    "print(df1)"
   ]
  },
  {
   "cell_type": "code",
   "execution_count": 63,
   "id": "c76ce150-ecdf-4af1-b1d7-4fb504176399",
   "metadata": {},
   "outputs": [
    {
     "name": "stdout",
     "output_type": "stream",
     "text": [
      "        sever_rate    count  CI_95_low  CI_95_high\n",
      "region                                            \n",
      "DE        0.611255  11550.0   0.602365    0.620145\n",
      "GB        0.736752  13474.0   0.729316    0.744188\n",
      "IN        0.592535  19798.0   0.585690    0.599379\n",
      "JP        0.657032   9826.0   0.647646    0.666418\n",
      "US        0.636589  14928.0   0.628873    0.644305\n"
     ]
    }
   ],
   "source": [
    "df2=df.groupby(['region','is_success']).is_sever.value_counts(normalize=True).unstack('is_success')['no'].unstack('is_sever')[True].rename('sever_rate').to_frame()\n",
    "df2['count']=df.groupby(['region','is_success']).is_sever.value_counts().unstack('is_success')['no'].unstack('is_sever').sum(axis=1)\n",
    "\n",
    "df2['CI_95_low'] =df2.apply(lambda x:CI_prob(x['sever_rate'],x['count'],0.05,'low') ,axis=1)\n",
    "df2['CI_95_high']=df2.apply(lambda x:CI_prob(x['sever_rate'],x['count'],0.05,'high'),axis=1)\n",
    "print(df2)"
   ]
  },
  {
   "cell_type": "markdown",
   "id": "2f06f275-a4a8-45bc-91c5-5ce6143355a1",
   "metadata": {},
   "source": [
    "#### A to Q18:"
   ]
  },
  {
   "cell_type": "code",
   "execution_count": 64,
   "id": "b852c612-bcf0-490f-8c61-b98ff1454c71",
   "metadata": {},
   "outputs": [
    {
     "name": "stdout",
     "output_type": "stream",
     "text": [
      "                   success_rate   count  CI_95_low  CI_95_high\n",
      "rec_provider                                                  \n",
      "BooksQ                 0.836628    1720   0.819156    0.854100\n",
      "BooksY                 0.979759    4150   0.975475    0.984044\n",
      "DNNQ                   0.858376  117424   0.856382    0.860371\n",
      "DNNY                   0.886714   45116   0.883790    0.889639\n",
      "ManualQ                0.953193   13844   0.949674    0.956711\n",
      "ManualY                0.905651    1982   0.892782    0.918520\n",
      "RNNQ                   0.902540   20983   0.898527    0.906553\n",
      "RNNY                   0.919651   12732   0.914930    0.924373\n",
      "RuleBased              0.967033     182   0.941093    0.992973\n",
      "RuleBasedY             0.574554   28154   0.568779    0.580329\n",
      "UserPopQ               0.747573   69937   0.744353    0.750792\n",
      "UserPopSelectionQ      0.815060    2417   0.799582    0.830538\n",
      "UserPopSelectionY      0.857143      21   0.707479    1.006806\n",
      "UserPopY               0.726839   38600   0.722394    0.731284\n",
      "XGBQ                   0.805143   12250   0.798129    0.812157\n",
      "XGBY                   0.870440    4276   0.860374    0.880505\n"
     ]
    }
   ],
   "source": [
    "df3=df.groupby('rec_provider').is_success.value_counts(normalize=True).unstack('is_success')['yes'].rename('success_rate').to_frame()\n",
    "df3['count']=df.groupby('rec_provider').is_success.count()\n",
    "\n",
    "df3['CI_95_low']= df3.apply(lambda row: CI_prob(row['success_rate'], row['count'],0.05,'low') ,axis=1)\n",
    "df3['CI_95_high']=df3.apply(lambda row: CI_prob(row['success_rate'], row['count'],0.05,'high'),axis=1)\n",
    "print(df3)"
   ]
  },
  {
   "cell_type": "code",
   "execution_count": 65,
   "id": "0dc63ade-f17a-41e7-93db-57bdffcbed48",
   "metadata": {},
   "outputs": [
    {
     "name": "stdout",
     "output_type": "stream",
     "text": [
      "                   sever_rate    count  CI_95_low  CI_95_high\n",
      "rec_provider                                                 \n",
      "BooksQ               0.099644    281.0   0.064623    0.134665\n",
      "BooksY               0.261905     84.0   0.167881    0.355928\n",
      "DNNQ                 0.840640  16629.0   0.835077    0.846203\n",
      "DNNY                 0.756556   5110.0   0.744789    0.768323\n",
      "ManualQ              0.526235    648.0   0.487790    0.564679\n",
      "ManualY              0.529412    187.0   0.457872    0.600951\n",
      "RNNQ                 0.755501   2045.0   0.736874    0.774129\n",
      "RNNY                 0.620723   1023.0   0.590990    0.650456\n",
      "RuleBased            1.000000      6.0   1.000000    1.000000\n",
      "RuleBasedY           0.526303  11976.0   0.517360    0.535245\n",
      "UserPopQ             0.475017  17652.0   0.467650    0.482384\n",
      "UserPopSelectionQ    0.601790    447.0   0.556409    0.647171\n",
      "UserPopSelectionY    0.333333      3.0  -0.200101    0.866768\n",
      "UserPopY             0.711969  10544.0   0.703325    0.720613\n",
      "XGBQ                 0.542941   2387.0   0.522957    0.562925\n",
      "XGBY                 0.712996    554.0   0.675328    0.750665\n"
     ]
    }
   ],
   "source": [
    "df4=df.groupby(['rec_provider','is_success']).is_sever.value_counts(normalize=True).unstack('is_success')['no'].unstack('is_sever')[True].rename('sever_rate').to_frame()\n",
    "df4['count']=df.groupby(['rec_provider','is_success']).is_sever.value_counts().unstack('is_success')['no'].unstack('is_sever').sum(axis=1)\n",
    "\n",
    "df4['CI_95_low'] =df4.apply(lambda x:CI_prob(x['sever_rate'],x['count'],0.05,'low') ,axis=1)\n",
    "df4['CI_95_high']=df4.apply(lambda x:CI_prob(x['sever_rate'],x['count'],0.05,'high'),axis=1)\n",
    "print(df4)"
   ]
  },
  {
   "cell_type": "markdown",
   "id": "4988895a-b4e2-4a77-989e-31f07e7d86c0",
   "metadata": {},
   "source": [
    "#### A to Q19:"
   ]
  },
  {
   "cell_type": "code",
   "execution_count": 66,
   "id": "0d5dd1a6-52a2-4e43-a56d-5d24524c7295",
   "metadata": {},
   "outputs": [
    {
     "name": "stdout",
     "output_type": "stream",
     "text": [
      "                          success_rate  count  CI_95_low  CI_95_high\n",
      "region rec_provider                                                 \n",
      "DE     BooksQ                 0.799704   1353   0.778379    0.821030\n",
      "       BooksY                 0.966587   1257   0.956652    0.976522\n",
      "       DNNQ                   0.839114  32433   0.835116    0.843113\n",
      "       DNNY                   0.917297   5417   0.909963    0.924632\n",
      "       ManualQ                0.857438    968   0.835413    0.879463\n",
      "       ManualY                0.960331    605   0.944778    0.975883\n",
      "       RuleBasedY             0.633209   1614   0.609698    0.656721\n",
      "       UserPopQ               0.731142  15179   0.724088    0.738195\n",
      "       UserPopY               0.779469   3351   0.765431    0.793506\n",
      "GB     DNNQ                   0.874127  39675   0.870863    0.877391\n",
      "       DNNY                   0.857968   7273   0.849945    0.865991\n",
      "       ManualQ                0.966574   2154   0.958983    0.974165\n",
      "       ManualY                0.873418    553   0.845705    0.901131\n",
      "       RNNQ                   0.892515  11369   0.886821    0.898208\n",
      "       RNNY                   0.872093   1548   0.855455    0.888731\n",
      "       RuleBased              0.975000     40   0.926617    1.023383\n",
      "       RuleBasedY             0.376961   1849   0.354871    0.399050\n",
      "       UserPopQ               0.672615   6781   0.661446    0.683784\n",
      "       UserPopY               0.658952   1642   0.636023    0.681882\n",
      "       XGBQ                   0.800788   9136   0.792598    0.808978\n",
      "       XGBY                   0.862033    964   0.840263    0.883803\n",
      "IN     ManualQ                0.952390   5293   0.946653    0.958127\n",
      "       ManualY                0.942222    225   0.911735    0.972709\n",
      "       RuleBased              0.857143      7   0.597918    1.116368\n",
      "       RuleBasedY             0.627986  14107   0.620010    0.635962\n",
      "       UserPopQ               0.795474  38225   0.791431    0.799518\n",
      "       UserPopY               0.744357  25297   0.738982    0.749733\n",
      "JP     DNNQ                   0.818467  24574   0.813647    0.823286\n",
      "       DNNY                   0.800985   3859   0.788388    0.813582\n",
      "       ManualQ                0.934003    697   0.915571    0.952435\n",
      "       ManualY                0.544000    125   0.456688    0.631312\n",
      "       RuleBasedY             0.323764    627   0.287139    0.360389\n",
      "       UserPopQ               0.629256   7930   0.618625    0.639887\n",
      "       UserPopSelectionQ      0.815060   2417   0.799582    0.830538\n",
      "       UserPopSelectionY      0.857143     21   0.707479    1.006806\n",
      "       UserPopY               0.505447   1377   0.479039    0.531854\n",
      "US     BooksQ                 0.972752    367   0.956096    0.989409\n",
      "       BooksY                 0.985482   2893   0.981124    0.989841\n",
      "       DNNQ                   0.905650  20742   0.901672    0.909628\n",
      "       DNNY                   0.899814  28567   0.896333    0.903296\n",
      "       ManualQ                0.970414   4732   0.965586    0.975242\n",
      "       ManualY                0.951477    474   0.932133    0.970820\n",
      "       RNNQ                   0.914396   9614   0.908803    0.919988\n",
      "       RNNY                   0.926234  11184   0.921390    0.931078\n",
      "       RuleBased              0.970370    135   0.941767    0.998973\n",
      "       RuleBasedY             0.541830   9957   0.532043    0.551616\n",
      "       UserPopQ               0.673436   1822   0.651903    0.694969\n",
      "       UserPopY               0.697534   6933   0.686721    0.708346\n",
      "       XGBQ                   0.817919   3114   0.804365    0.831473\n",
      "       XGBY                   0.872886   3312   0.861542    0.884231\n"
     ]
    }
   ],
   "source": [
    "df5=df.groupby(['region','rec_provider']).is_success.value_counts(normalize=True).unstack('is_success')['yes'].rename('success_rate').to_frame()\n",
    "df5['count']=df.groupby(['region','rec_provider']).is_success.count()\n",
    "\n",
    "df5['CI_95_low'] =df5.apply(lambda x:CI_prob(x['success_rate'],x['count'],0.05,'low') ,axis=1)\n",
    "df5['CI_95_high']=df5.apply(lambda x:CI_prob(x['success_rate'],x['count'],0.05,'high'),axis=1)\n",
    "print(df5)"
   ]
  },
  {
   "cell_type": "code",
   "execution_count": 67,
   "id": "d7fdcf51-2bf6-43fe-94c0-eb95f2ee14f6",
   "metadata": {},
   "outputs": [
    {
     "name": "stdout",
     "output_type": "stream",
     "text": [
      "                          sever_rate   count  CI_95_low  CI_95_high\n",
      "region rec_provider                                                \n",
      "DE     BooksQ               0.095941   271.0   0.060877    0.131005\n",
      "       BooksY               0.238095    42.0   0.109285    0.366905\n",
      "       DNNQ                 0.763703  5218.0   0.752176    0.775229\n",
      "       DNNY                 0.604027   447.0   0.558690    0.649364\n",
      "       ManualQ              0.333333   138.0   0.254683    0.411984\n",
      "       ManualY              1.000000    24.0   1.000000    1.000000\n",
      "       RuleBasedY           0.292724   591.0   0.256040    0.329408\n",
      "       UserPopQ             0.498039  4080.0   0.482697    0.513381\n",
      "       UserPopY             0.668471   739.0   0.634530    0.702412\n",
      "GB     DNNQ                 0.869017  4993.0   0.859658    0.878375\n",
      "       DNNY                 0.784124  1033.0   0.759034    0.809213\n",
      "       ManualQ              0.652778    72.0   0.542809    0.762746\n",
      "       ManualY              0.657143    70.0   0.545948    0.768338\n",
      "       RNNQ                 0.757774  1222.0   0.733753    0.781795\n",
      "       RNNY                 0.671717   198.0   0.606309    0.737125\n",
      "       RuleBased            1.000000     1.0   1.000000    1.000000\n",
      "       RuleBasedY           0.817708  1152.0   0.795413    0.840003\n",
      "       UserPopQ             0.530180  2220.0   0.509419    0.550941\n",
      "       UserPopY             0.760714   560.0   0.725378    0.796051\n",
      "       XGBQ                 0.540659  1820.0   0.517764    0.563554\n",
      "       XGBY                 0.721805   133.0   0.645648    0.797961\n",
      "IN     ManualQ              0.492063   252.0   0.430338    0.553789\n",
      "       ManualY                   NaN    13.0        NaN         NaN\n",
      "       RuleBased            1.000000     1.0   1.000000    1.000000\n",
      "       RuleBasedY           0.608994  5248.0   0.595792    0.622196\n",
      "       UserPopQ             0.459255  7817.0   0.448208    0.470303\n",
      "       UserPopY             0.745322  6467.0   0.734704    0.755941\n",
      "JP     DNNQ                 0.900247  4461.0   0.891453    0.909040\n",
      "       DNNY                 0.699219   768.0   0.666785    0.731653\n",
      "       ManualQ              0.543478    46.0   0.399535    0.687421\n",
      "       ManualY              0.228070    57.0   0.119144    0.336997\n",
      "       RuleBasedY           0.326241   423.0   0.281563    0.370920\n",
      "       UserPopQ             0.423129  2940.0   0.405271    0.440988\n",
      "       UserPopSelectionQ    0.601790   447.0   0.556409    0.647171\n",
      "       UserPopSelectionY    0.333333     3.0  -0.200101    0.866768\n",
      "       UserPopY             0.312775   681.0   0.277954    0.347596\n",
      "US     BooksQ               0.200000    10.0  -0.047918    0.447918\n",
      "       BooksY               0.285714    42.0   0.149091    0.422338\n",
      "       DNNQ                 0.837506  1957.0   0.821162    0.853851\n",
      "       DNNY                 0.785814  2862.0   0.770784    0.800844\n",
      "       ManualQ              0.707143   140.0   0.631761    0.782524\n",
      "       ManualY              0.695652    23.0   0.507606    0.883699\n",
      "       RNNQ                 0.752126   823.0   0.722627    0.781625\n",
      "       RNNY                 0.608485   825.0   0.575179    0.641791\n",
      "       RuleBased            1.000000     4.0   1.000000    1.000000\n",
      "       RuleBasedY           0.406401  4562.0   0.392148    0.420653\n",
      "       UserPopQ             0.574790   595.0   0.535067    0.614513\n",
      "       UserPopY             0.741059  2097.0   0.722310    0.759808\n",
      "       XGBQ                 0.550265   567.0   0.509318    0.591211\n",
      "       XGBY                 0.710214   421.0   0.666879    0.753549\n"
     ]
    }
   ],
   "source": [
    "df6=df.groupby(['region','rec_provider','is_success']).is_sever.value_counts(normalize=True).unstack('is_success')['no'].unstack('is_sever')[True].rename('sever_rate').to_frame()\n",
    "df6['count']=df.groupby(['region','rec_provider','is_success']).is_sever.value_counts().unstack('is_success')['no'].unstack('is_sever').sum(axis=1)\n",
    "\n",
    "df6['CI_95_low'] =df6.apply(lambda x:CI_prob(x['sever_rate'],x['count'],0.05,'low') ,axis=1)\n",
    "df6['CI_95_high']=df6.apply(lambda x:CI_prob(x['sever_rate'],x['count'],0.05,'high'),axis=1)\n",
    "print(df6)"
   ]
  },
  {
   "cell_type": "markdown",
   "id": "d50a533f-016b-4d91-a634-36e1c2cd8b5f",
   "metadata": {},
   "source": [
    "#### A to Q20:"
   ]
  },
  {
   "cell_type": "code",
   "execution_count": 68,
   "id": "e27cc5d9-585a-4d0c-b7cb-2a5eea746978",
   "metadata": {},
   "outputs": [
    {
     "name": "stdout",
     "output_type": "stream",
     "text": [
      "                     success_rate   count  CI_95_low  CI_95_high\n",
      "recommendation_type                                             \n",
      "Qality                   0.830910  236572   0.829399    0.832420\n",
      "Yield                    0.784427  137216   0.782252    0.786603\n"
     ]
    }
   ],
   "source": [
    "df7=df.groupby('recommendation_type').is_success.value_counts(normalize=True).unstack('is_success')['yes'].rename('success_rate').to_frame()\n",
    "df7['count']=df.groupby('recommendation_type').is_success.count()\n",
    "\n",
    "df7['CI_95_low'] =df7.apply(lambda x:CI_prob(x['success_rate'],x['count'],0.05,'low') ,axis=1)\n",
    "df7['CI_95_high']=df7.apply(lambda x:CI_prob(x['success_rate'],x['count'],0.05,'high'),axis=1)\n",
    "print(df7)"
   ]
  },
  {
   "cell_type": "code",
   "execution_count": 69,
   "id": "1502f45b-f550-4735-a244-f8c8f936c930",
   "metadata": {},
   "outputs": [
    {
     "name": "stdout",
     "output_type": "stream",
     "text": [
      "                     sever_rate  count  CI_95_low  CI_95_high\n",
      "recommendation_type                                          \n",
      "Qality                 0.645766  25830   0.639933    0.651599\n",
      "Yield                  0.637218  18847   0.630354    0.644082\n"
     ]
    }
   ],
   "source": [
    "df8=df.groupby(['recommendation_type','is_success']).is_sever.value_counts(normalize=True).unstack('is_success')['no'].unstack('is_sever')[True].rename('sever_rate').to_frame()\n",
    "df8['count']=df.groupby(['recommendation_type','is_success']).is_sever.value_counts().unstack('is_success')['no'].unstack('is_sever')[True].to_frame()\n",
    "\n",
    "df8['CI_95_low'] =df8.apply(lambda x:CI_prob(x['sever_rate'],x['count'],0.05,'low') ,axis=1)\n",
    "df8['CI_95_high']=df8.apply(lambda x:CI_prob(x['sever_rate'],x['count'],0.05,'high'),axis=1)\n",
    "print(df8)"
   ]
  },
  {
   "cell_type": "code",
   "execution_count": 70,
   "id": "6f6c1922-161a-4f68-9ff4-dea75e036195",
   "metadata": {},
   "outputs": [
    {
     "data": {
      "text/plain": [
       "region\n",
       "DE     62177\n",
       "GB     82984\n",
       "IN     83154\n",
       "JP     41627\n",
       "US    103846\n",
       "Name: is_success, dtype: int64"
      ]
     },
     "execution_count": 70,
     "metadata": {},
     "output_type": "execute_result"
    }
   ],
   "source": [
    "df.groupby('region').is_success.count()"
   ]
  },
  {
   "cell_type": "markdown",
   "id": "ccd49645-542e-4dbf-b0c4-b197c974a528",
   "metadata": {},
   "source": [
    "Analysis Bonus questions:\n",
    "1. Compute the per region success rate and CI in trailing weeks, Say, 4 weeks instead of 1 week - to allow for smoother estimations and smaller CIs"
   ]
  },
  {
   "cell_type": "markdown",
   "id": "a7b125da-e9d6-41d4-974c-cc333660995c",
   "metadata": {},
   "source": [
    "### Compactization"
   ]
  },
  {
   "cell_type": "markdown",
   "id": "905e4e19-8ceb-44b1-8496-eb14e107ccbd",
   "metadata": {},
   "source": [
    "* Are there duplicated ads? To compac the data, remove duplicated ads and instead add an ad_count column **(pay attention, this is not trivial at all)**"
   ]
  },
  {
   "cell_type": "markdown",
   "id": "cbd7201c-98c2-4d59-a76e-e098dc5d9e43",
   "metadata": {},
   "source": [
    "### Merges and joins"
   ]
  },
  {
   "cell_type": "markdown",
   "id": "d78fa97c-4736-41c5-a649-931808eb8b30",
   "metadata": {},
   "source": [
    "The Wow samples and annotations task were sent and recieve seperatly, per each week. The dataset you were working on was constructed from those files. You can see the files under the `data/weekly` folder, here are the first 10 files:"
   ]
  },
  {
   "cell_type": "code",
   "execution_count": 71,
   "id": "81341f62-9161-4f1a-a678-251baba01564",
   "metadata": {},
   "outputs": [
    {
     "data": {
      "text/plain": [
       "['2021_33_DE_Qality_annotation_result.csv',\n",
       " '2021_33_DE_Yield_annotation_result.csv',\n",
       " '2021_33_DE__Sample.csv',\n",
       " '2021_33_GB_Qality_annotation_result.csv',\n",
       " '2021_33_GB_Yield_annotation_result.csv',\n",
       " '2021_33_GB__Sample.csv',\n",
       " '2021_33_IN_Qality_annotation_result.csv',\n",
       " '2021_33_IN_Yield_annotation_result.csv',\n",
       " '2021_33_IN__Sample.csv',\n",
       " '2021_33_JP_Qality_annotation_result.csv']"
      ]
     },
     "execution_count": 71,
     "metadata": {},
     "output_type": "execute_result"
    }
   ],
   "source": [
    "import os\n",
    "weekly_files = os.listdir('data/weekly/')\n",
    "sorted(weekly_files)[:10]"
   ]
  },
  {
   "cell_type": "markdown",
   "id": "a0882bd4-9b7a-4ea1-a047-348e5e3f0980",
   "metadata": {},
   "source": [
    "Your task is to reconstruct the dataset above. "
   ]
  },
  {
   "cell_type": "markdown",
   "id": "2405d189-8570-4c86-aa35-320a173779a1",
   "metadata": {},
   "source": [
    "### Visualizations"
   ]
  },
  {
   "cell_type": "markdown",
   "id": "8323da48-3adf-4a9b-b692-7dc528990d5c",
   "metadata": {},
   "source": [
    "Produce the following success rate graph per region:"
   ]
  },
  {
   "cell_type": "code",
   "execution_count": null,
   "id": "42143ac6-1cee-42f8-9eeb-fe7d04683434",
   "metadata": {},
   "outputs": [],
   "source": []
  },
  {
   "cell_type": "markdown",
   "id": "f417703c-0d93-4aee-8a3c-24d6c9e66978",
   "metadata": {},
   "source": [
    "Produce the following requestser proportion graph:"
   ]
  },
  {
   "cell_type": "code",
   "execution_count": null,
   "id": "5d89892f-ca63-4273-b917-2c0d4ef91a79",
   "metadata": {},
   "outputs": [],
   "source": []
  },
  {
   "cell_type": "markdown",
   "id": "a0a44ecb-56c0-4341-94f7-0642ebf71d85",
   "metadata": {},
   "source": [
    "## Appendix"
   ]
  },
  {
   "cell_type": "markdown",
   "id": "0f8d9f04-e707-42ed-b09c-8edbf46a820e",
   "metadata": {},
   "source": [
    "Code to create weekly files:"
   ]
  },
  {
   "cell_type": "code",
   "execution_count": 72,
   "id": "4d91c99c-0649-459d-ae1c-5b7cce5a6177",
   "metadata": {},
   "outputs": [],
   "source": [
    "# for l in ad_recs_annotated.region.unique():\n",
    "#     for w in ad_recs_annotated.week_id.unique():\n",
    "#         w_id = w.split('_')[1]\n",
    "#         y = w.split('-')[0]\n",
    "#         query = f'week_id == \"{w}\" and region == \"{l}\"'\n",
    "#         sample_f_name = f'{y}_{w_id}_{l}__Sample.csv'\n",
    "#         ad_recs_annotated.query(query)[['week_id','ad_id','requester','region','recommendation_type', 'rec_provider']].to_csv(f'data/weekly/{sample_f_name}', index=False)\n",
    "#         for s in ad_recs_annotated.recommendation_type.unique():\n",
    "#             ann_f_name = f'{y}_{w_id}_{l}_{s}_annotation_result.csv'\n",
    "#             query = f'week_id == \"{w}\" and region == \"{l}\" and recommendation_type == \"{s}\"'\n",
    "#             sss = ad_recs_annotated.query(query)\n",
    "#             if sss.empty:\n",
    "#                 continue            \n",
    "#             sss[['region','ad_id','is_success','is_sever']].drop_duplicates(subset=['ad_id']).to_csv(f'data/weekly/{ann_f_name}', index=False)"
   ]
  }
 ],
 "metadata": {
  "kernelspec": {
   "display_name": "Python 3 (ipykernel)",
   "language": "python",
   "name": "python3"
  },
  "language_info": {
   "codemirror_mode": {
    "name": "ipython",
    "version": 3
   },
   "file_extension": ".py",
   "mimetype": "text/x-python",
   "name": "python",
   "nbconvert_exporter": "python",
   "pygments_lexer": "ipython3",
   "version": "3.8.10"
  }
 },
 "nbformat": 4,
 "nbformat_minor": 5
}
